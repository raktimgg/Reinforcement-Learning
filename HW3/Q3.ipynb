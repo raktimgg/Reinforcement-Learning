{
 "cells": [
  {
   "cell_type": "code",
   "execution_count": 1,
   "metadata": {
    "colab": {},
    "colab_type": "code",
    "id": "NmgFbNvcN-pP"
   },
   "outputs": [],
   "source": [
    "# importing the required libraries\n",
    "import numpy as np\n",
    "import matplotlib.pyplot as plt\n",
    "import gym\n",
    "import sys"
   ]
  },
  {
   "cell_type": "code",
   "execution_count": 2,
   "metadata": {
    "colab": {},
    "colab_type": "code",
    "id": "SDXb1C-6OMCZ"
   },
   "outputs": [],
   "source": [
    "# reading the arguments\n",
    "# instructions on giving the arguments are in the ReadME.txt file\n",
    "temp, env_name, rtg, anf, N, K = sys.argv\n",
    "# temp, env_name, rtg, anf, N, K = ['Q3.ipynb','lunarlander','True','False','150','50']"
   ]
  },
  {
   "cell_type": "code",
   "execution_count": 3,
   "metadata": {
    "colab": {},
    "colab_type": "code",
    "id": "7EzLu7vuPB2o"
   },
   "outputs": [
    {
     "name": "stderr",
     "output_type": "stream",
     "text": [
      "/home/raktim/anaconda3/envs/raktim/lib/python3.7/site-packages/gym/logger.py:30: UserWarning: \u001b[33mWARN: Box bound precision lowered by casting to float32\u001b[0m\n",
      "  warnings.warn(colorize('%s: %s'%('WARN', msg % args), 'yellow'))\n"
     ]
    }
   ],
   "source": [
    "if(env_name=='cartpole'):\n",
    "    env = gym.make('CartPole-v0')\n",
    "    acs = 2\n",
    "    obs = 4\n",
    "elif(env_name=='lunarlander'):\n",
    "    env = gym.make('LunarLander-v2')\n",
    "    acs = 4\n",
    "    obs = 8\n",
    "else:\n",
    "    print(\"Wrong Input\")"
   ]
  },
  {
   "cell_type": "code",
   "execution_count": 4,
   "metadata": {
    "colab": {
     "base_uri": "https://localhost:8080/",
     "height": 51
    },
    "colab_type": "code",
    "id": "ynEz0IWiPGRI",
    "outputId": "9000e46c-9e24-4925-bf2d-acadca0374c8"
   },
   "outputs": [
    {
     "name": "stdout",
     "output_type": "stream",
     "text": [
      "State Space:  Box(8,)\n",
      "Action Space:  Discrete(4)\n"
     ]
    }
   ],
   "source": [
    "# printing the state space and action space as asked in part (a) of the question\n",
    "print(\"State Space: \",env.observation_space)\n",
    "print(\"Action Space: \",env.action_space)"
   ]
  },
  {
   "cell_type": "code",
   "execution_count": 5,
   "metadata": {
    "colab": {},
    "colab_type": "code",
    "id": "kq2r-StQPJeD"
   },
   "outputs": [],
   "source": [
    "state = env.reset()\n",
    "state = state[None,:]"
   ]
  },
  {
   "cell_type": "code",
   "execution_count": 6,
   "metadata": {
    "colab": {},
    "colab_type": "code",
    "id": "n8eZ3S9EPLer"
   },
   "outputs": [],
   "source": [
    "# defining the loss function\n",
    "def PGLoss(T,A):\n",
    "    tot = np.zeros([len(T),T[0][0].shape[0]])\n",
    "    for i in range(0,len(T)):\n",
    "        for j in range(0,len(T[i])):\n",
    "            tot[i]+=(T[i][j])*A[i][j]\n",
    "    lss = np.mean(tot)\n",
    "    return lss"
   ]
  },
  {
   "cell_type": "code",
   "execution_count": 7,
   "metadata": {},
   "outputs": [],
   "source": [
    "# function to calculate reward to go\n",
    "def reward_to_go(x,gamma):\n",
    "    At = []\n",
    "    for i in range(0,len(x)):\n",
    "        Gt = []\n",
    "        for j in range(0,len(x[i])):\n",
    "            tot = 0\n",
    "            for k in range(j,len(x[i])):\n",
    "                tot+=gamma**(k-j)*x[i][k]\n",
    "            Gt.append(tot)\n",
    "        At.append(Gt)\n",
    "    return At"
   ]
  },
  {
   "cell_type": "code",
   "execution_count": 8,
   "metadata": {},
   "outputs": [],
   "source": [
    "# function to calculate si function without reward to go\n",
    "def tot_reward(x,gamma):\n",
    "    At = []\n",
    "    for i in range(0,len(x)):\n",
    "        Gt = []\n",
    "        for j in range(0,len(x[i])):\n",
    "            tot = 0\n",
    "            for k in range(0,len(x[i])):\n",
    "                tot+=gamma**k*x[i][k]\n",
    "            Gt.append(tot)\n",
    "        At.append(Gt)\n",
    "    return At"
   ]
  },
  {
   "cell_type": "code",
   "execution_count": 9,
   "metadata": {},
   "outputs": [],
   "source": [
    "# fucntion to calculate advantage normalisation. Mean is used as baseline\n",
    "def adv_norm(x):\n",
    "    t = [a for m in x for a in m]\n",
    "    b = sum(t)/len(t)\n",
    "    var = sum([((a - b) ** 2) for a in t]) / len(t)\n",
    "    for i in range(len(x)):\n",
    "        for j in range(len(x[i])):\n",
    "            x[i][j] = (x[i][j] - b) #/var\n",
    "    return x"
   ]
  },
  {
   "cell_type": "code",
   "execution_count": 10,
   "metadata": {},
   "outputs": [],
   "source": [
    "def softmax(x):\n",
    "    x1 = np.exp(x)\n",
    "    out = x1/np.sum(x1)\n",
    "    return out"
   ]
  },
  {
   "cell_type": "code",
   "execution_count": 11,
   "metadata": {},
   "outputs": [],
   "source": [
    "def softmax_gradient(softmax):\n",
    "    s = softmax.reshape(-1,1)\n",
    "    return np.diagflat(s) - np.dot(s, s.T)"
   ]
  },
  {
   "cell_type": "code",
   "execution_count": 12,
   "metadata": {},
   "outputs": [],
   "source": [
    "# defining the logistic regression model\n",
    "def model(state):\n",
    "    z = state@W\n",
    "    out = softmax(z)\n",
    "    return out"
   ]
  },
  {
   "cell_type": "code",
   "execution_count": 13,
   "metadata": {},
   "outputs": [],
   "source": [
    "# updating the parameters of the model\n",
    "def update_params(traj,A,st,AC,W):\n",
    "    G = 0\n",
    "    for i in range(len(traj)):\n",
    "        for j in range(len(traj[i])):\n",
    "            sgrad = softmax_gradient(np.array(traj[i][j]))[AC[i][j],:]\n",
    "            temp = sgrad/traj[i][j][AC[i][j]]\n",
    "            grad = st[i][j].T@temp[None,:]\n",
    "            grad = grad*A[i][j]      # gradient calculation\n",
    "            G += grad\n",
    "    G = G/len(traj)\n",
    "    W = W + lr*G\n",
    "    return W"
   ]
  },
  {
   "cell_type": "code",
   "execution_count": 14,
   "metadata": {
    "colab": {
     "base_uri": "https://localhost:8080/",
     "height": 1000
    },
    "colab_type": "code",
    "id": "2qL8TgXgPQ1w",
    "outputId": "1eb4fedb-034b-422c-c0ed-dfac4ce86a99"
   },
   "outputs": [
    {
     "name": "stdout",
     "output_type": "stream",
     "text": [
      "Epoch: 0 ; Avg.reward: -219.7769591970213 ; Max Reward in Epoch: -5.48993612893932 ; Min Reward in Epoch -525.7952178538742\n",
      "Epoch: 1 ; Avg.reward: -543.7044847699126 ; Max Reward in Epoch: -330.04187324777104 ; Min Reward in Epoch -1118.457206562815\n",
      "Epoch: 2 ; Avg.reward: -345.613625782525 ; Max Reward in Epoch: -191.0753640329906 ; Min Reward in Epoch -468.98739324152274\n",
      "Epoch: 3 ; Avg.reward: -316.887538778312 ; Max Reward in Epoch: -142.52999558492075 ; Min Reward in Epoch -546.1005266751682\n",
      "Epoch: 4 ; Avg.reward: -133.73712473212984 ; Max Reward in Epoch: 45.79303204228137 ; Min Reward in Epoch -217.72871496970816\n",
      "Epoch: 5 ; Avg.reward: -150.433431648338 ; Max Reward in Epoch: 12.178095513677562 ; Min Reward in Epoch -251.5523083726612\n",
      "Epoch: 6 ; Avg.reward: -132.6530991259288 ; Max Reward in Epoch: -70.44451238397922 ; Min Reward in Epoch -211.69367321569575\n",
      "Epoch: 7 ; Avg.reward: -141.91605004229038 ; Max Reward in Epoch: -67.19599851081524 ; Min Reward in Epoch -225.9905632409627\n",
      "Epoch: 8 ; Avg.reward: -144.46923749050146 ; Max Reward in Epoch: -24.66459441576663 ; Min Reward in Epoch -229.1864387737646\n",
      "Epoch: 9 ; Avg.reward: -140.40815752021456 ; Max Reward in Epoch: -70.69892321076452 ; Min Reward in Epoch -240.79605492626357\n",
      "Epoch: 10 ; Avg.reward: -143.61551831965852 ; Max Reward in Epoch: -106.85920743635998 ; Min Reward in Epoch -225.56365604839485\n",
      "Epoch: 11 ; Avg.reward: -132.91254047013572 ; Max Reward in Epoch: 9.30772615723383 ; Min Reward in Epoch -227.44404006185468\n",
      "Epoch: 12 ; Avg.reward: -131.72705873846303 ; Max Reward in Epoch: -28.345493769804037 ; Min Reward in Epoch -192.95962111940176\n",
      "Epoch: 13 ; Avg.reward: -136.04512207370078 ; Max Reward in Epoch: -37.54894203536763 ; Min Reward in Epoch -179.29360768228347\n",
      "Epoch: 14 ; Avg.reward: -146.04340295329519 ; Max Reward in Epoch: -12.363139052330453 ; Min Reward in Epoch -330.99840406295846\n",
      "Epoch: 15 ; Avg.reward: -136.81486757562354 ; Max Reward in Epoch: -74.9638165169281 ; Min Reward in Epoch -406.319945520298\n",
      "Epoch: 16 ; Avg.reward: -128.1943501547574 ; Max Reward in Epoch: -82.3913352658943 ; Min Reward in Epoch -165.8230548361496\n",
      "Epoch: 17 ; Avg.reward: -126.56658706019017 ; Max Reward in Epoch: -84.22981158524168 ; Min Reward in Epoch -161.7964885893732\n",
      "Epoch: 18 ; Avg.reward: -142.61324260743714 ; Max Reward in Epoch: -37.40123386358831 ; Min Reward in Epoch -220.15620408614728\n",
      "Epoch: 19 ; Avg.reward: -163.98015149582992 ; Max Reward in Epoch: 13.234056662503477 ; Min Reward in Epoch -300.4480255877967\n",
      "Epoch: 20 ; Avg.reward: -140.84009487116634 ; Max Reward in Epoch: 16.653643555789472 ; Min Reward in Epoch -231.19295050898347\n",
      "Epoch: 21 ; Avg.reward: -149.7250184145434 ; Max Reward in Epoch: -113.14292514747139 ; Min Reward in Epoch -189.83160229552968\n",
      "Epoch: 22 ; Avg.reward: -147.70374218177457 ; Max Reward in Epoch: -92.43122012054877 ; Min Reward in Epoch -197.0979097415179\n",
      "Epoch: 23 ; Avg.reward: -151.11298938288274 ; Max Reward in Epoch: 8.231270136962763 ; Min Reward in Epoch -325.5703860898692\n",
      "Epoch: 24 ; Avg.reward: -147.0438755997416 ; Max Reward in Epoch: 6.747115226503766 ; Min Reward in Epoch -250.04495293105614\n",
      "Epoch: 25 ; Avg.reward: -146.44422460053957 ; Max Reward in Epoch: -14.442578859389528 ; Min Reward in Epoch -308.5175736179209\n",
      "Epoch: 26 ; Avg.reward: -217.8324754920582 ; Max Reward in Epoch: -66.27989076464021 ; Min Reward in Epoch -289.26753304484504\n",
      "Epoch: 27 ; Avg.reward: -213.49527457377383 ; Max Reward in Epoch: -26.45699630933518 ; Min Reward in Epoch -362.0785407497195\n",
      "Epoch: 28 ; Avg.reward: -218.51807299148263 ; Max Reward in Epoch: -82.52267964397277 ; Min Reward in Epoch -306.57922710260027\n",
      "Epoch: 29 ; Avg.reward: -148.2319290308689 ; Max Reward in Epoch: -43.42346772801906 ; Min Reward in Epoch -212.0204241908001\n",
      "Epoch: 30 ; Avg.reward: -161.9056282761792 ; Max Reward in Epoch: -33.96383309870144 ; Min Reward in Epoch -357.627458209919\n",
      "Epoch: 31 ; Avg.reward: -116.40567087472841 ; Max Reward in Epoch: -89.90494349148229 ; Min Reward in Epoch -155.4386449763548\n",
      "Epoch: 32 ; Avg.reward: -122.15368855691472 ; Max Reward in Epoch: -99.14973617085352 ; Min Reward in Epoch -145.64340571557142\n",
      "Epoch: 33 ; Avg.reward: -120.95141898458849 ; Max Reward in Epoch: -88.55008473322704 ; Min Reward in Epoch -151.61833286677455\n",
      "Epoch: 34 ; Avg.reward: -116.52430079896878 ; Max Reward in Epoch: -86.09992341958606 ; Min Reward in Epoch -145.78927264640265\n",
      "Epoch: 35 ; Avg.reward: -116.40272100035878 ; Max Reward in Epoch: -86.22557588736527 ; Min Reward in Epoch -135.92397835590015\n",
      "Epoch: 36 ; Avg.reward: -115.6381477742326 ; Max Reward in Epoch: -81.9775641219405 ; Min Reward in Epoch -151.15013201893774\n",
      "Epoch: 37 ; Avg.reward: -121.32261376701092 ; Max Reward in Epoch: -88.47281715458793 ; Min Reward in Epoch -158.92391798345884\n",
      "Epoch: 38 ; Avg.reward: -118.59512570903723 ; Max Reward in Epoch: -84.08310914654754 ; Min Reward in Epoch -148.7236843818657\n",
      "Epoch: 39 ; Avg.reward: -130.05645173661668 ; Max Reward in Epoch: -100.63195503984188 ; Min Reward in Epoch -159.6079512919363\n",
      "Epoch: 40 ; Avg.reward: -113.6016316911072 ; Max Reward in Epoch: -87.09064675100097 ; Min Reward in Epoch -137.58243068219\n",
      "Epoch: 41 ; Avg.reward: -110.56204965613742 ; Max Reward in Epoch: -78.99192420854237 ; Min Reward in Epoch -129.81802757314296\n",
      "Epoch: 42 ; Avg.reward: -111.73480167669668 ; Max Reward in Epoch: -88.2784585355458 ; Min Reward in Epoch -165.39066433469566\n",
      "Epoch: 43 ; Avg.reward: -116.92657652127495 ; Max Reward in Epoch: -85.11064500681827 ; Min Reward in Epoch -146.71346694185831\n",
      "Epoch: 44 ; Avg.reward: -108.07370467027361 ; Max Reward in Epoch: -80.21895865683273 ; Min Reward in Epoch -129.6941020315362\n",
      "Epoch: 45 ; Avg.reward: -136.93761898912985 ; Max Reward in Epoch: -1.9296246760543312 ; Min Reward in Epoch -177.0405681583456\n",
      "Epoch: 46 ; Avg.reward: -149.94279334484688 ; Max Reward in Epoch: -5.324390196990549 ; Min Reward in Epoch -180.4935824338466\n",
      "Epoch: 47 ; Avg.reward: -140.33548369084926 ; Max Reward in Epoch: -13.828989218046999 ; Min Reward in Epoch -169.78836690845162\n",
      "Epoch: 48 ; Avg.reward: -131.6701116695549 ; Max Reward in Epoch: -0.9439515806311221 ; Min Reward in Epoch -173.51016175172097\n",
      "Epoch: 49 ; Avg.reward: -136.12541304509344 ; Max Reward in Epoch: -56.5591758027957 ; Min Reward in Epoch -161.31248347391306\n",
      "Epoch: 50 ; Avg.reward: -143.1220160541923 ; Max Reward in Epoch: 20.168923174619508 ; Min Reward in Epoch -237.43486907738955\n",
      "Epoch: 51 ; Avg.reward: -123.83634097298972 ; Max Reward in Epoch: -92.04787294442797 ; Min Reward in Epoch -160.86129762912924\n",
      "Epoch: 52 ; Avg.reward: -124.31103889268388 ; Max Reward in Epoch: -101.54069602446596 ; Min Reward in Epoch -159.39652551673623\n",
      "Epoch: 53 ; Avg.reward: -116.92863199752823 ; Max Reward in Epoch: -87.73753304643225 ; Min Reward in Epoch -147.06281122576988\n",
      "Epoch: 54 ; Avg.reward: -124.59201304230743 ; Max Reward in Epoch: -103.17061782710913 ; Min Reward in Epoch -149.88192125723566\n",
      "Epoch: 55 ; Avg.reward: -111.93678479166849 ; Max Reward in Epoch: -77.65386574253054 ; Min Reward in Epoch -149.08803364186497\n",
      "Epoch: 56 ; Avg.reward: -117.07955281471608 ; Max Reward in Epoch: -82.76671937502196 ; Min Reward in Epoch -145.13903267240045\n",
      "Epoch: 57 ; Avg.reward: -111.59895100700915 ; Max Reward in Epoch: -89.19432688673184 ; Min Reward in Epoch -137.80340831867534\n",
      "Epoch: 58 ; Avg.reward: -133.3728138468966 ; Max Reward in Epoch: -105.51758188019267 ; Min Reward in Epoch -166.44698593073196\n",
      "Epoch: 59 ; Avg.reward: -120.06694978060034 ; Max Reward in Epoch: -84.93385360054438 ; Min Reward in Epoch -156.27403485055652\n",
      "Epoch: 60 ; Avg.reward: -122.46543700021131 ; Max Reward in Epoch: -98.12157387046643 ; Min Reward in Epoch -143.74043113802173\n",
      "Epoch: 61 ; Avg.reward: -116.08932342514444 ; Max Reward in Epoch: -85.81570346958637 ; Min Reward in Epoch -142.9422850938389\n",
      "Epoch: 62 ; Avg.reward: -113.92272407723068 ; Max Reward in Epoch: -80.01123494972816 ; Min Reward in Epoch -142.45209631256316\n",
      "Epoch: 63 ; Avg.reward: -113.55744824300994 ; Max Reward in Epoch: -89.27449100710609 ; Min Reward in Epoch -142.9868656729434\n",
      "Epoch: 64 ; Avg.reward: -117.01724698446932 ; Max Reward in Epoch: -87.23678484669009 ; Min Reward in Epoch -140.87065952264328\n",
      "Epoch: 65 ; Avg.reward: -124.14906858564117 ; Max Reward in Epoch: -93.9688130597101 ; Min Reward in Epoch -152.75676829290887\n"
     ]
    },
    {
     "name": "stdout",
     "output_type": "stream",
     "text": [
      "Epoch: 66 ; Avg.reward: -119.07251132257937 ; Max Reward in Epoch: -82.05117796789759 ; Min Reward in Epoch -158.93459091042962\n",
      "Epoch: 67 ; Avg.reward: -117.26958187017227 ; Max Reward in Epoch: -86.00513849605889 ; Min Reward in Epoch -142.4902382526483\n",
      "Epoch: 68 ; Avg.reward: -131.38215806061112 ; Max Reward in Epoch: -3.939912678909451 ; Min Reward in Epoch -160.86786620504307\n",
      "Epoch: 69 ; Avg.reward: -124.93291633801526 ; Max Reward in Epoch: 4.512020767794695 ; Min Reward in Epoch -162.7576948331279\n",
      "Epoch: 70 ; Avg.reward: -134.93554518753223 ; Max Reward in Epoch: -38.04855285347632 ; Min Reward in Epoch -175.84293574656948\n",
      "Epoch: 71 ; Avg.reward: -152.13878231005896 ; Max Reward in Epoch: 14.553347749576417 ; Min Reward in Epoch -201.81942436840046\n",
      "Epoch: 72 ; Avg.reward: -138.81112744334132 ; Max Reward in Epoch: 28.289877576863177 ; Min Reward in Epoch -224.81250948796873\n",
      "Epoch: 73 ; Avg.reward: -151.84988810759626 ; Max Reward in Epoch: -35.42473563260623 ; Min Reward in Epoch -194.23306330700734\n",
      "Epoch: 74 ; Avg.reward: -135.2816521007862 ; Max Reward in Epoch: 43.18102884230689 ; Min Reward in Epoch -185.57416202238386\n",
      "Epoch: 75 ; Avg.reward: -130.06729700583685 ; Max Reward in Epoch: -30.922745018669374 ; Min Reward in Epoch -153.42065668093318\n",
      "Epoch: 76 ; Avg.reward: -127.31323632698138 ; Max Reward in Epoch: 1.8642213082847974 ; Min Reward in Epoch -163.01136446474362\n",
      "Epoch: 77 ; Avg.reward: -120.27463240087152 ; Max Reward in Epoch: -89.08433422357606 ; Min Reward in Epoch -138.09138103871612\n",
      "Epoch: 78 ; Avg.reward: -128.91956492643376 ; Max Reward in Epoch: -103.02890635865748 ; Min Reward in Epoch -148.25684505304662\n",
      "Epoch: 79 ; Avg.reward: -115.36260515416544 ; Max Reward in Epoch: -81.48516973727425 ; Min Reward in Epoch -156.14443656768248\n",
      "Epoch: 80 ; Avg.reward: -121.19350690341881 ; Max Reward in Epoch: -90.8791452973038 ; Min Reward in Epoch -146.24423228257325\n",
      "Epoch: 81 ; Avg.reward: -121.49143883171737 ; Max Reward in Epoch: -88.29518656881116 ; Min Reward in Epoch -160.94580740345612\n",
      "Epoch: 82 ; Avg.reward: -97.05494108565594 ; Max Reward in Epoch: -58.961021685101294 ; Min Reward in Epoch -127.21203046067438\n",
      "Epoch: 83 ; Avg.reward: -106.64976761549096 ; Max Reward in Epoch: -70.9673597963776 ; Min Reward in Epoch -145.7521872823084\n",
      "Epoch: 84 ; Avg.reward: -111.59344104015503 ; Max Reward in Epoch: -71.26288391052907 ; Min Reward in Epoch -159.57486091116073\n",
      "Epoch: 85 ; Avg.reward: -100.93154261441875 ; Max Reward in Epoch: -51.126719116434614 ; Min Reward in Epoch -144.14999755554777\n",
      "Epoch: 86 ; Avg.reward: -69.77534479852886 ; Max Reward in Epoch: -30.843111562206687 ; Min Reward in Epoch -174.84796930835932\n",
      "Epoch: 87 ; Avg.reward: -64.16966144250576 ; Max Reward in Epoch: -9.79570558184085 ; Min Reward in Epoch -204.4094055597393\n",
      "Epoch: 88 ; Avg.reward: -53.125801974540316 ; Max Reward in Epoch: -5.372427147662137 ; Min Reward in Epoch -94.78407504835603\n",
      "Epoch: 89 ; Avg.reward: -47.16317467311081 ; Max Reward in Epoch: 15.381580486950199 ; Min Reward in Epoch -90.0064523918534\n",
      "Epoch: 90 ; Avg.reward: -41.72113388845074 ; Max Reward in Epoch: 11.354237400164465 ; Min Reward in Epoch -215.08271013413827\n",
      "Epoch: 91 ; Avg.reward: -49.920572591311505 ; Max Reward in Epoch: 1.2197149966522716 ; Min Reward in Epoch -233.77191391779377\n",
      "Epoch: 92 ; Avg.reward: -28.059862558706268 ; Max Reward in Epoch: 13.200804030907051 ; Min Reward in Epoch -83.16375667113302\n",
      "Epoch: 93 ; Avg.reward: -24.257807895267092 ; Max Reward in Epoch: 43.194743857082614 ; Min Reward in Epoch -97.00835886321718\n",
      "Epoch: 94 ; Avg.reward: -5.6132026386271825 ; Max Reward in Epoch: 129.0776590014452 ; Min Reward in Epoch -107.46352630724616\n",
      "Epoch: 95 ; Avg.reward: 2.6631209377778453 ; Max Reward in Epoch: 215.02716385728945 ; Min Reward in Epoch -136.67381042375698\n",
      "Epoch: 96 ; Avg.reward: 15.734151828146382 ; Max Reward in Epoch: 209.05643251664418 ; Min Reward in Epoch -120.09441344321993\n",
      "Epoch: 97 ; Avg.reward: 9.353721581429602 ; Max Reward in Epoch: 236.9633136977087 ; Min Reward in Epoch -118.68038760160896\n",
      "Epoch: 98 ; Avg.reward: 29.345126095540962 ; Max Reward in Epoch: 220.55509184876342 ; Min Reward in Epoch -81.88834729999493\n",
      "Epoch: 99 ; Avg.reward: 61.186094000020745 ; Max Reward in Epoch: 254.14988522567523 ; Min Reward in Epoch -84.17335616320186\n",
      "Epoch: 100 ; Avg.reward: 83.98221974407845 ; Max Reward in Epoch: 287.3411356900423 ; Min Reward in Epoch -106.86578689625097\n",
      "Epoch: 101 ; Avg.reward: 43.953170838577506 ; Max Reward in Epoch: 301.5528128482738 ; Min Reward in Epoch -138.33424216741443\n",
      "Epoch: 102 ; Avg.reward: 92.90885516720049 ; Max Reward in Epoch: 286.20528163263066 ; Min Reward in Epoch -74.22144495474122\n",
      "Epoch: 103 ; Avg.reward: 109.2793890864429 ; Max Reward in Epoch: 288.78890712227957 ; Min Reward in Epoch -32.27946413743774\n",
      "Epoch: 104 ; Avg.reward: 144.21543345113884 ; Max Reward in Epoch: 300.49650193489254 ; Min Reward in Epoch -119.53623614480014\n",
      "Epoch: 105 ; Avg.reward: 95.68671180625539 ; Max Reward in Epoch: 273.5848903943122 ; Min Reward in Epoch -151.63816993463644\n",
      "Epoch: 106 ; Avg.reward: 161.76391888429586 ; Max Reward in Epoch: 273.8807430589653 ; Min Reward in Epoch -19.835768876176246\n",
      "Epoch: 107 ; Avg.reward: 137.54390679295716 ; Max Reward in Epoch: 283.2575492288071 ; Min Reward in Epoch -55.410661807650584\n",
      "Epoch: 108 ; Avg.reward: 143.865151356373 ; Max Reward in Epoch: 279.5673323444473 ; Min Reward in Epoch -80.71894851613422\n",
      "Epoch: 109 ; Avg.reward: 138.06814470789314 ; Max Reward in Epoch: 289.0956572807034 ; Min Reward in Epoch -34.38448769817188\n",
      "Epoch: 110 ; Avg.reward: 139.85408309892873 ; Max Reward in Epoch: 291.53094031997546 ; Min Reward in Epoch -124.16754604719671\n",
      "Epoch: 111 ; Avg.reward: 157.56303103001068 ; Max Reward in Epoch: 302.93947820434755 ; Min Reward in Epoch -164.69569346200439\n",
      "Epoch: 112 ; Avg.reward: 158.11295865748812 ; Max Reward in Epoch: 300.81422720337906 ; Min Reward in Epoch -40.21059800128273\n",
      "Epoch: 113 ; Avg.reward: 167.69818622486164 ; Max Reward in Epoch: 297.1947914020426 ; Min Reward in Epoch -251.06362340425787\n",
      "Epoch: 114 ; Avg.reward: 191.88975651090112 ; Max Reward in Epoch: 292.4431805132502 ; Min Reward in Epoch -187.45719867118976\n",
      "Epoch: 115 ; Avg.reward: 180.75431436500384 ; Max Reward in Epoch: 311.77175687760905 ; Min Reward in Epoch -140.16784707785132\n",
      "Epoch: 116 ; Avg.reward: 216.33174180329985 ; Max Reward in Epoch: 301.9563685120653 ; Min Reward in Epoch -159.6334197061705\n",
      "Epoch: 117 ; Avg.reward: 165.2240887101521 ; Max Reward in Epoch: 294.36788562722705 ; Min Reward in Epoch -114.89607837782333\n",
      "Epoch: 118 ; Avg.reward: 180.1101974572578 ; Max Reward in Epoch: 298.0850100118594 ; Min Reward in Epoch -233.69339412658874\n",
      "Epoch: 119 ; Avg.reward: 186.08214920354757 ; Max Reward in Epoch: 302.18401368627923 ; Min Reward in Epoch -188.99793986335328\n",
      "Epoch: 120 ; Avg.reward: 211.76792479120013 ; Max Reward in Epoch: 300.094625456289 ; Min Reward in Epoch -212.51192993441535\n",
      "Epoch: 121 ; Avg.reward: 219.70689966750797 ; Max Reward in Epoch: 304.4054882727394 ; Min Reward in Epoch 7.882577514050382\n",
      "Epoch: 122 ; Avg.reward: 157.92023586904065 ; Max Reward in Epoch: 296.54104312511816 ; Min Reward in Epoch -41.245385631932706\n",
      "Epoch: 123 ; Avg.reward: 218.83231310636694 ; Max Reward in Epoch: 310.4445661694532 ; Min Reward in Epoch -14.255574596769435\n",
      "Epoch: 124 ; Avg.reward: 226.2688312412691 ; Max Reward in Epoch: 315.20146547500485 ; Min Reward in Epoch -134.99226745181937\n",
      "Epoch: 125 ; Avg.reward: 180.12140251701433 ; Max Reward in Epoch: 313.41582660232234 ; Min Reward in Epoch -174.67856745663184\n",
      "Epoch: 126 ; Avg.reward: 218.7409693443751 ; Max Reward in Epoch: 311.46639508015255 ; Min Reward in Epoch -50.27324292621011\n",
      "Epoch: 127 ; Avg.reward: 129.36718011294815 ; Max Reward in Epoch: 287.74858768656316 ; Min Reward in Epoch -153.3987394464204\n",
      "Epoch: 128 ; Avg.reward: 167.64960574296072 ; Max Reward in Epoch: 306.9434345702521 ; Min Reward in Epoch -241.4076932935781\n",
      "Epoch: 129 ; Avg.reward: 155.69883946575837 ; Max Reward in Epoch: 311.1751107219623 ; Min Reward in Epoch -79.05108188519792\n",
      "Epoch: 130 ; Avg.reward: 203.19653250843933 ; Max Reward in Epoch: 314.9893172532878 ; Min Reward in Epoch -224.86967431425546\n"
     ]
    },
    {
     "name": "stdout",
     "output_type": "stream",
     "text": [
      "Epoch: 131 ; Avg.reward: 198.39297994764232 ; Max Reward in Epoch: 297.9016392836006 ; Min Reward in Epoch -99.1662540872266\n",
      "Epoch: 132 ; Avg.reward: 195.33274377512495 ; Max Reward in Epoch: 308.92087185151985 ; Min Reward in Epoch -30.43983605225972\n",
      "Epoch: 133 ; Avg.reward: 193.90323706703333 ; Max Reward in Epoch: 311.3771041817834 ; Min Reward in Epoch -136.27484467237818\n",
      "Epoch: 134 ; Avg.reward: 202.50788830992573 ; Max Reward in Epoch: 304.37008760632034 ; Min Reward in Epoch -133.70299656460182\n",
      "Epoch: 135 ; Avg.reward: 182.07657916682976 ; Max Reward in Epoch: 315.2423810254055 ; Min Reward in Epoch -164.912102480548\n",
      "Epoch: 136 ; Avg.reward: 200.38137967644153 ; Max Reward in Epoch: 297.45145908203415 ; Min Reward in Epoch -144.32622659413985\n",
      "Epoch: 137 ; Avg.reward: 152.66398405336417 ; Max Reward in Epoch: 305.3281215741413 ; Min Reward in Epoch -142.2037978770021\n",
      "Epoch: 138 ; Avg.reward: 155.28211374747792 ; Max Reward in Epoch: 310.52901775073195 ; Min Reward in Epoch -49.85678894284516\n",
      "Epoch: 139 ; Avg.reward: 171.620854071338 ; Max Reward in Epoch: 303.19073288412915 ; Min Reward in Epoch -169.55133014976366\n",
      "Epoch: 140 ; Avg.reward: 212.40642295290777 ; Max Reward in Epoch: 308.7760554817405 ; Min Reward in Epoch -94.41698087351837\n",
      "Epoch: 141 ; Avg.reward: 169.58567997594028 ; Max Reward in Epoch: 292.2825418359349 ; Min Reward in Epoch -214.11853661855852\n",
      "Epoch: 142 ; Avg.reward: 178.1968510633856 ; Max Reward in Epoch: 312.8951208958041 ; Min Reward in Epoch -147.8429557122583\n",
      "Epoch: 143 ; Avg.reward: 180.03157403477925 ; Max Reward in Epoch: 318.50326068005097 ; Min Reward in Epoch -176.61014127107248\n",
      "Epoch: 144 ; Avg.reward: 139.54165599890408 ; Max Reward in Epoch: 311.4199917371885 ; Min Reward in Epoch -133.19166921298134\n",
      "Epoch: 145 ; Avg.reward: 188.69262171614255 ; Max Reward in Epoch: 318.40591333822476 ; Min Reward in Epoch -52.004472000048004\n",
      "Epoch: 146 ; Avg.reward: 214.36320601199583 ; Max Reward in Epoch: 310.03305378946425 ; Min Reward in Epoch -1.892418768785376\n",
      "Epoch: 147 ; Avg.reward: 233.1750201998001 ; Max Reward in Epoch: 304.3470591945138 ; Min Reward in Epoch -69.925643291561\n",
      "Epoch: 148 ; Avg.reward: 214.60796838329549 ; Max Reward in Epoch: 309.7161176134099 ; Min Reward in Epoch -56.24125755486686\n",
      "Epoch: 149 ; Avg.reward: 175.13201806177648 ; Max Reward in Epoch: 312.61195563552667 ; Min Reward in Epoch -53.18933031052427\n"
     ]
    }
   ],
   "source": [
    "lr = 0.01   # learning rate\n",
    "gamma = 0.99  # value of gamma\n",
    "W = np.random.rand(obs,acs)  # initialising the weights\n",
    "res = []\n",
    "for i in range(0,int(N)):\n",
    "    R = []\n",
    "    traj = []\n",
    "    st = []\n",
    "    AC = []\n",
    "    RE = []\n",
    "    t = 0\n",
    "    for k in range(0,int(K)):\n",
    "        state = env.reset()\n",
    "        state = state[None,:]\n",
    "        done = False\n",
    "        r = []\n",
    "        temp = []\n",
    "        s = []\n",
    "        a = []\n",
    "        re = 0\n",
    "        while(done!=True):\n",
    "            pie = model(state)\n",
    "            s.append(state)\n",
    "            action = np.random.choice(acs,p=pie[0])\n",
    "            state, reward, done,_ = env.step(action)   # taking step in the action and storing reward\n",
    "            state = state[None,:]\n",
    "            r.append(reward)\n",
    "            temp.append(pie[0])\n",
    "            a.append(action)\n",
    "            re+=reward\n",
    "            if(done==True):\n",
    "                traj.append(temp)\n",
    "                R.append(r)\n",
    "                st.append(s)\n",
    "                AC.append(a)\n",
    "                RE.append(re)\n",
    "                t = 1\n",
    "    if(rtg==str(True)):    # Reward to go\n",
    "        A = reward_to_go(R,gamma)\n",
    "    elif(anf==str(True)):  # Advantage normalisation\n",
    "        A = reward_to_go(R,gamma)\n",
    "        A = adv_norm(A)\n",
    "    else:\n",
    "        A = tot_reward(R,gamma)\n",
    "    W = update_params(traj,A,st,AC,W)\n",
    "    res.append(sum(RE)/len(RE))\n",
    "    print(\"Epoch:\",i,\"; Avg.reward:\",sum(RE)/len(RE),\"; Max Reward in Epoch:\",max(RE),\"; Min Reward in Epoch\",min(RE))"
   ]
  },
  {
   "cell_type": "code",
   "execution_count": 15,
   "metadata": {
    "scrolled": true
   },
   "outputs": [
    {
     "data": {
      "image/png": "[encoded data removed]",
      "text/plain": [
       "<Figure size 432x288 with 1 Axes>"
      ]
     },
     "metadata": {
      "needs_background": "light"
     },
     "output_type": "display_data"
    }
   ],
   "source": [
    "# plotting the preformance\n",
    "plt.plot(res)\n",
    "plt.xlabel(\"Epochs\")\n",
    "plt.ylabel(\"Average Reward per epoch\")\n",
    "plt.show()"
   ]
  },
  {
   "cell_type": "code",
   "execution_count": 20,
   "metadata": {},
   "outputs": [],
   "source": [
    "# Uncomment the following lines to render the environment after training and see the trained model\n",
    "\n",
    "# state = env.reset()\n",
    "# state = state[None,:]\n",
    "# done = False\n",
    "# while(done!=True):\n",
    "#     env.render()\n",
    "#     pie = model(state)\n",
    "#     action = np.random.choice(acs,p=pie[0])\n",
    "#     state, reward, done, _ = env.step(action)\n",
    "#     state = state[None,:]"
   ]
  }
 ],
 "metadata": {
  "accelerator": "GPU",
  "colab": {
   "name": "Q3.ipynb",
   "provenance": []
  },
  "kernelspec": {
   "display_name": "Python 3",
   "language": "python",
   "name": "python3"
  },
  "language_info": {
   "codemirror_mode": {
    "name": "ipython",
    "version": 3
   },
   "file_extension": ".py",
   "mimetype": "text/x-python",
   "name": "python",
   "nbconvert_exporter": "python",
   "pygments_lexer": "ipython3",
   "version": "3.7.5"
  }
 },
 "nbformat": 4,
 "nbformat_minor": 1
}
