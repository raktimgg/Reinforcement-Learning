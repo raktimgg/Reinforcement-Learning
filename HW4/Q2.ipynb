{
 "cells": [
  {
   "cell_type": "code",
   "execution_count": 2,
   "metadata": {},
   "outputs": [],
   "source": [
    "import numpy as np\n",
    "import matplotlib.pyplot as plt"
   ]
  },
  {
   "cell_type": "markdown",
   "metadata": {},
   "source": [
    "In the next portion all the algorithms are implemented as asked in part (b) of the question."
   ]
  },
  {
   "cell_type": "code",
   "execution_count": 3,
   "metadata": {},
   "outputs": [],
   "source": [
    "##### Defining the parameters ########\n",
    "K = 10\n",
    "N = 1000\n",
    "M = 10"
   ]
  },
  {
   "cell_type": "code",
   "execution_count": 4,
   "metadata": {},
   "outputs": [
    {
     "name": "stdout",
     "output_type": "stream",
     "text": [
      "The means of the gaussians of the rewards are\n",
      "[ 3.  0. -1. -4.  4. -5. -2.  2.  1. -3.]\n"
     ]
    }
   ],
   "source": [
    "###### The means of the gaussian rewards are defined here #####\n",
    "mu = np.arange(K)*1.0\n",
    "mu = (mu-5)\n",
    "np.random.shuffle(mu)\n",
    "print(\"The means of the gaussians of the rewards are\")\n",
    "print(mu)"
   ]
  },
  {
   "cell_type": "code",
   "execution_count": null,
   "metadata": {},
   "outputs": [],
   "source": []
  },
  {
   "cell_type": "code",
   "execution_count": 5,
   "metadata": {},
   "outputs": [],
   "source": [
    "##### function to take greedy action #####\n",
    "def greedy(x):\n",
    "    return np.argmax(x)"
   ]
  },
  {
   "cell_type": "code",
   "execution_count": 6,
   "metadata": {},
   "outputs": [],
   "source": [
    "##### function to take epsilon greedy action #####\n",
    "def eps_greedy(x,eps):\n",
    "    ch = np.random.choice([0,1],p = [eps,1-eps])\n",
    "    if(ch==0):\n",
    "        return np.random.randint(K)\n",
    "    else:\n",
    "        return np.argmax(x)"
   ]
  },
  {
   "cell_type": "code",
   "execution_count": 7,
   "metadata": {},
   "outputs": [],
   "source": [
    "##### function to take action according to upper confidence bound #####\n",
    "def UCB(x,N,t):\n",
    "    temp = np.sqrt((2*np.log(t+1))/(N+1e-10))\n",
    "    return np.argmax(x+temp)"
   ]
  },
  {
   "cell_type": "code",
   "execution_count": 8,
   "metadata": {},
   "outputs": [],
   "source": [
    "############ Greedy Algorithm implementation ###########"
   ]
  },
  {
   "cell_type": "code",
   "execution_count": 9,
   "metadata": {},
   "outputs": [
    {
     "name": "stdout",
     "output_type": "stream",
     "text": [
      "The Q values calculated are\n",
      "[ 3.61226195  0.02088166 -0.96335541 -4.25783532  3.9395563  -4.90749382\n",
      " -2.2338106   2.09833142  1.19006889 -3.57508667]\n",
      "The means of the rewards of the Gaussian are\n",
      "[ 3.  0. -1. -4.  4. -5. -2.  2.  1. -3.]\n"
     ]
    }
   ],
   "source": [
    "Q1 = np.zeros(K)\n",
    "num1 = np.zeros(K)\n",
    "### Eploration ###\n",
    "for m in range(M):\n",
    "    for k in range(K):\n",
    "        reward = np.random.normal(mu[k],1)\n",
    "        num1[k]+=1\n",
    "        Q1[k] = Q1[k] + (1/num1[k])*(reward - Q1[k])\n",
    "### Greedy Exploitation ###\n",
    "for m in range(M+1,N):\n",
    "    ind = greedy(Q1)\n",
    "    num1[ind]+=1\n",
    "    reward = np.random.normal(mu[ind],1)\n",
    "    Q1[ind] = Q1[ind] + (1/num1[ind])*(reward - Q1[ind])\n",
    "print(\"The Q values calculated are\")\n",
    "print(Q1)\n",
    "print(\"The means of the rewards of the Gaussian are\")\n",
    "print(mu)"
   ]
  },
  {
   "cell_type": "code",
   "execution_count": 10,
   "metadata": {},
   "outputs": [],
   "source": [
    "############ Epsilon Greedy algorithm with epsilon = 0.1 ##############"
   ]
  },
  {
   "cell_type": "code",
   "execution_count": 11,
   "metadata": {},
   "outputs": [
    {
     "name": "stdout",
     "output_type": "stream",
     "text": [
      "The Q values calculated are\n",
      "[ 2.82735653 -0.07038963 -1.23791537 -3.69546159  4.03582164 -4.99076375\n",
      " -2.007111    1.65257366  1.21644835 -2.33750054]\n",
      "The means of the rewards of the Gaussian are\n",
      "[ 3.  0. -1. -4.  4. -5. -2.  2.  1. -3.]\n"
     ]
    }
   ],
   "source": [
    "Q2 = np.zeros(K)\n",
    "num2 = np.zeros(K)\n",
    "### Exploration ###\n",
    "for m in range(M):\n",
    "    for k in range(K):\n",
    "        reward = np.random.normal(mu[k],1)\n",
    "        num2[k]+=1\n",
    "        Q2[k] = Q2[k] + (1/num2[k])*(reward - Q2[k])\n",
    "### Epsilon greedy Exploitation ###\n",
    "for m in range(M+1,N):\n",
    "    ind = eps_greedy(Q2,0.1)\n",
    "    num2[ind]+=1\n",
    "    reward = np.random.normal(mu[ind],1)\n",
    "    Q2[ind] = Q2[ind] + (1/num2[ind])*(reward - Q2[ind])\n",
    "print(\"The Q values calculated are\")\n",
    "print(Q2)\n",
    "print(\"The means of the rewards of the Gaussian are\")\n",
    "print(mu)"
   ]
  },
  {
   "cell_type": "code",
   "execution_count": 12,
   "metadata": {},
   "outputs": [],
   "source": [
    "############## Epsilon Greedy algorithm with epsilon = 0.01 ###############"
   ]
  },
  {
   "cell_type": "code",
   "execution_count": 13,
   "metadata": {},
   "outputs": [
    {
     "name": "stdout",
     "output_type": "stream",
     "text": [
      "The Q values calculated are\n",
      "[ 3.13032487  0.47380571 -1.09234553 -4.18245165  4.07508104 -4.97985159\n",
      " -1.59292238  1.56953577  1.15625698 -3.12902445]\n",
      "The means of the rewards of the Gaussian are\n",
      "[ 3.  0. -1. -4.  4. -5. -2.  2.  1. -3.]\n"
     ]
    }
   ],
   "source": [
    "Q3 = np.zeros(K)\n",
    "num3 = np.zeros(K)\n",
    "### Exploration ###\n",
    "for m in range(M):\n",
    "    for k in range(K):\n",
    "        reward = np.random.normal(mu[k],1)\n",
    "        num3[k]+=1\n",
    "        Q3[k] = Q3[k] + (1/num3[k])*(reward - Q3[k])\n",
    "### Epsilon greedy Exploitation ###\n",
    "for m in range(M+1,N):\n",
    "    ind = eps_greedy(Q3,0.001)\n",
    "    num3[ind]+=1\n",
    "    reward = np.random.normal(mu[ind],1)\n",
    "    Q3[ind] = Q3[ind] + (1/num3[ind])*(reward - Q3[ind])\n",
    "print(\"The Q values calculated are\")\n",
    "print(Q3)\n",
    "print(\"The means of the rewards of the Gaussian are\")\n",
    "print(mu)"
   ]
  },
  {
   "cell_type": "code",
   "execution_count": 14,
   "metadata": {},
   "outputs": [],
   "source": [
    "############### Epsilon Greedy with decay ##############"
   ]
  },
  {
   "cell_type": "code",
   "execution_count": 15,
   "metadata": {},
   "outputs": [
    {
     "name": "stdout",
     "output_type": "stream",
     "text": [
      "The Q values calculated are\n",
      "[ 3.06604524 -0.33610897 -0.95665221 -4.03514246  3.95986384 -5.46893074\n",
      " -1.74538026  2.41207108  0.96314548 -3.23531538]\n",
      "The means of the rewards of the Gaussian are\n",
      "[ 3.  0. -1. -4.  4. -5. -2.  2.  1. -3.]\n"
     ]
    }
   ],
   "source": [
    "Q4 = np.zeros(K)\n",
    "num4 = np.zeros(K)\n",
    "### Exploration ###\n",
    "for m in range(M):\n",
    "    for k in range(K):\n",
    "        reward = np.random.normal(mu[k],1)\n",
    "        num4[k]+=1\n",
    "        Q4[k] = Q4[k] + (1/num4[k])*(reward - Q4[k])\n",
    "r = 0.99   ### decay factor\n",
    "eps = 0.1  ### initial value of epsilon\n",
    "### Exploitation with epsilon greedy with decay ###\n",
    "for m in range(M+1,N):\n",
    "    ind = eps_greedy(Q4,eps)\n",
    "    eps = eps*0.99\n",
    "    num4[ind]+=1\n",
    "    reward = np.random.normal(mu[ind],1)\n",
    "    Q4[ind] = Q4[ind] + (1/num4[ind])*(reward - Q4[ind])\n",
    "print(\"The Q values calculated are\")\n",
    "print(Q4)\n",
    "print(\"The means of the rewards of the Gaussian are\")\n",
    "print(mu)"
   ]
  },
  {
   "cell_type": "code",
   "execution_count": 16,
   "metadata": {},
   "outputs": [],
   "source": [
    "########### UCB algorithm ###################"
   ]
  },
  {
   "cell_type": "code",
   "execution_count": 17,
   "metadata": {},
   "outputs": [
    {
     "name": "stdout",
     "output_type": "stream",
     "text": [
      "The Q values calculated are\n",
      "[ 3.12572438 -0.3840261  -1.6718125  -3.58580474  4.05771716 -5.11379805\n",
      " -1.90385883  2.073404    1.21796885 -3.113012  ]\n",
      "The means of the rewards of the Gaussian are\n",
      "[ 3.  0. -1. -4.  4. -5. -2.  2.  1. -3.]\n"
     ]
    }
   ],
   "source": [
    "Q5 = np.zeros(K)\n",
    "num5 = np.zeros(K)\n",
    "### Exploration ###\n",
    "for m in range(M):\n",
    "    for k in range(K):\n",
    "        reward = np.random.normal(mu[k],1)\n",
    "        num5[k]+=1\n",
    "        Q5[k] = Q5[k] + (1/num5[k])*(reward - Q5[k])\n",
    "### UCB exploitation ###\n",
    "for m in range(M+1,N):\n",
    "    ind = UCB(Q5,num5,m)\n",
    "    num5[ind]+=1\n",
    "    reward = np.random.normal(mu[ind],1)\n",
    "    Q5[ind] = Q5[ind] + (1/num5[ind])*(reward - Q5[ind])\n",
    "print(\"The Q values calculated are\")\n",
    "print(Q5)\n",
    "print(\"The means of the rewards of the Gaussian are\")\n",
    "print(mu)"
   ]
  },
  {
   "cell_type": "markdown",
   "metadata": {},
   "source": [
    "In the next part, the graphs are plotted as asked in part (c) of the question. The variables of this part are independent from the previous part,i.e., all the algorithms are reimplemented for part (c) of the question."
   ]
  },
  {
   "cell_type": "code",
   "execution_count": 18,
   "metadata": {},
   "outputs": [],
   "source": [
    "### function used in computing V*\n",
    "def find_v():\n",
    "    res = []\n",
    "    for i in range(K):\n",
    "        res.append(np.random.normal(mu[i],1))\n",
    "    return max(res)"
   ]
  },
  {
   "cell_type": "code",
   "execution_count": 19,
   "metadata": {},
   "outputs": [],
   "source": [
    "####### Plotting graphs as asked in the question #########"
   ]
  },
  {
   "cell_type": "code",
   "execution_count": 20,
   "metadata": {},
   "outputs": [
    {
     "name": "stdout",
     "output_type": "stream",
     "text": [
      "0 of 500 done\n",
      "1 of 500 done\n",
      "2 of 500 done\n",
      "3 of 500 done\n",
      "4 of 500 done\n",
      "5 of 500 done\n",
      "6 of 500 done\n",
      "7 of 500 done\n",
      "8 of 500 done\n",
      "9 of 500 done\n",
      "10 of 500 done\n",
      "11 of 500 done\n",
      "12 of 500 done\n",
      "13 of 500 done\n",
      "14 of 500 done\n",
      "15 of 500 done\n",
      "16 of 500 done\n",
      "17 of 500 done\n",
      "18 of 500 done\n",
      "19 of 500 done\n",
      "20 of 500 done\n",
      "21 of 500 done\n",
      "22 of 500 done\n",
      "23 of 500 done\n",
      "24 of 500 done\n",
      "25 of 500 done\n",
      "26 of 500 done\n",
      "27 of 500 done\n",
      "28 of 500 done\n",
      "29 of 500 done\n",
      "30 of 500 done\n",
      "31 of 500 done\n",
      "32 of 500 done\n",
      "33 of 500 done\n",
      "34 of 500 done\n",
      "35 of 500 done\n",
      "36 of 500 done\n",
      "37 of 500 done\n",
      "38 of 500 done\n",
      "39 of 500 done\n",
      "40 of 500 done\n",
      "41 of 500 done\n",
      "42 of 500 done\n",
      "43 of 500 done\n",
      "44 of 500 done\n",
      "45 of 500 done\n",
      "46 of 500 done\n",
      "47 of 500 done\n",
      "48 of 500 done\n",
      "49 of 500 done\n",
      "50 of 500 done\n",
      "51 of 500 done\n",
      "52 of 500 done\n",
      "53 of 500 done\n",
      "54 of 500 done\n",
      "55 of 500 done\n",
      "56 of 500 done\n",
      "57 of 500 done\n",
      "58 of 500 done\n",
      "59 of 500 done\n",
      "60 of 500 done\n",
      "61 of 500 done\n",
      "62 of 500 done\n",
      "63 of 500 done\n",
      "64 of 500 done\n",
      "65 of 500 done\n",
      "66 of 500 done\n",
      "67 of 500 done\n",
      "68 of 500 done\n",
      "69 of 500 done\n",
      "70 of 500 done\n",
      "71 of 500 done\n",
      "72 of 500 done\n",
      "73 of 500 done\n",
      "74 of 500 done\n",
      "75 of 500 done\n",
      "76 of 500 done\n",
      "77 of 500 done\n",
      "78 of 500 done\n",
      "79 of 500 done\n",
      "80 of 500 done\n",
      "81 of 500 done\n",
      "82 of 500 done\n",
      "83 of 500 done\n",
      "84 of 500 done\n",
      "85 of 500 done\n",
      "86 of 500 done\n",
      "87 of 500 done\n",
      "88 of 500 done\n",
      "89 of 500 done\n",
      "90 of 500 done\n",
      "91 of 500 done\n",
      "92 of 500 done\n",
      "93 of 500 done\n",
      "94 of 500 done\n",
      "95 of 500 done\n",
      "96 of 500 done\n",
      "97 of 500 done\n",
      "98 of 500 done\n",
      "99 of 500 done\n",
      "100 of 500 done\n",
      "101 of 500 done\n",
      "102 of 500 done\n",
      "103 of 500 done\n",
      "104 of 500 done\n",
      "105 of 500 done\n",
      "106 of 500 done\n",
      "107 of 500 done\n",
      "108 of 500 done\n",
      "109 of 500 done\n",
      "110 of 500 done\n",
      "111 of 500 done\n",
      "112 of 500 done\n",
      "113 of 500 done\n",
      "114 of 500 done\n",
      "115 of 500 done\n",
      "116 of 500 done\n",
      "117 of 500 done\n",
      "118 of 500 done\n",
      "119 of 500 done\n",
      "120 of 500 done\n",
      "121 of 500 done\n",
      "122 of 500 done\n",
      "123 of 500 done\n",
      "124 of 500 done\n",
      "125 of 500 done\n",
      "126 of 500 done\n",
      "127 of 500 done\n",
      "128 of 500 done\n",
      "129 of 500 done\n",
      "130 of 500 done\n",
      "131 of 500 done\n",
      "132 of 500 done\n",
      "133 of 500 done\n",
      "134 of 500 done\n",
      "135 of 500 done\n",
      "136 of 500 done\n",
      "137 of 500 done\n",
      "138 of 500 done\n",
      "139 of 500 done\n",
      "140 of 500 done\n",
      "141 of 500 done\n",
      "142 of 500 done\n",
      "143 of 500 done\n",
      "144 of 500 done\n",
      "145 of 500 done\n",
      "146 of 500 done\n",
      "147 of 500 done\n",
      "148 of 500 done\n",
      "149 of 500 done\n",
      "150 of 500 done\n",
      "151 of 500 done\n",
      "152 of 500 done\n",
      "153 of 500 done\n",
      "154 of 500 done\n",
      "155 of 500 done\n",
      "156 of 500 done\n",
      "157 of 500 done\n",
      "158 of 500 done\n",
      "159 of 500 done\n",
      "160 of 500 done\n",
      "161 of 500 done\n",
      "162 of 500 done\n",
      "163 of 500 done\n",
      "164 of 500 done\n",
      "165 of 500 done\n",
      "166 of 500 done\n",
      "167 of 500 done\n",
      "168 of 500 done\n",
      "169 of 500 done\n",
      "170 of 500 done\n",
      "171 of 500 done\n",
      "172 of 500 done\n",
      "173 of 500 done\n",
      "174 of 500 done\n",
      "175 of 500 done\n",
      "176 of 500 done\n",
      "177 of 500 done\n",
      "178 of 500 done\n",
      "179 of 500 done\n",
      "180 of 500 done\n",
      "181 of 500 done\n",
      "182 of 500 done\n",
      "183 of 500 done\n",
      "184 of 500 done\n",
      "185 of 500 done\n",
      "186 of 500 done\n",
      "187 of 500 done\n",
      "188 of 500 done\n",
      "189 of 500 done\n",
      "190 of 500 done\n",
      "191 of 500 done\n",
      "192 of 500 done\n",
      "193 of 500 done\n",
      "194 of 500 done\n",
      "195 of 500 done\n",
      "196 of 500 done\n",
      "197 of 500 done\n",
      "198 of 500 done\n",
      "199 of 500 done\n",
      "200 of 500 done\n",
      "201 of 500 done\n",
      "202 of 500 done\n",
      "203 of 500 done\n",
      "204 of 500 done\n",
      "205 of 500 done\n",
      "206 of 500 done\n",
      "207 of 500 done\n",
      "208 of 500 done\n",
      "209 of 500 done\n",
      "210 of 500 done\n",
      "211 of 500 done\n",
      "212 of 500 done\n",
      "213 of 500 done\n",
      "214 of 500 done\n",
      "215 of 500 done\n",
      "216 of 500 done\n",
      "217 of 500 done\n",
      "218 of 500 done\n",
      "219 of 500 done\n",
      "220 of 500 done\n",
      "221 of 500 done\n",
      "222 of 500 done\n",
      "223 of 500 done\n",
      "224 of 500 done\n",
      "225 of 500 done\n",
      "226 of 500 done\n",
      "227 of 500 done\n",
      "228 of 500 done\n",
      "229 of 500 done\n",
      "230 of 500 done\n",
      "231 of 500 done\n",
      "232 of 500 done\n",
      "233 of 500 done\n",
      "234 of 500 done\n",
      "235 of 500 done\n",
      "236 of 500 done\n",
      "237 of 500 done\n",
      "238 of 500 done\n",
      "239 of 500 done\n",
      "240 of 500 done\n",
      "241 of 500 done\n",
      "242 of 500 done\n",
      "243 of 500 done\n",
      "244 of 500 done\n",
      "245 of 500 done\n",
      "246 of 500 done\n",
      "247 of 500 done\n",
      "248 of 500 done\n",
      "249 of 500 done\n",
      "250 of 500 done\n",
      "251 of 500 done\n",
      "252 of 500 done\n",
      "253 of 500 done\n",
      "254 of 500 done\n",
      "255 of 500 done\n",
      "256 of 500 done\n",
      "257 of 500 done\n",
      "258 of 500 done\n",
      "259 of 500 done\n",
      "260 of 500 done\n",
      "261 of 500 done\n",
      "262 of 500 done\n",
      "263 of 500 done\n",
      "264 of 500 done\n",
      "265 of 500 done\n",
      "266 of 500 done\n",
      "267 of 500 done\n",
      "268 of 500 done\n",
      "269 of 500 done\n",
      "270 of 500 done\n",
      "271 of 500 done\n",
      "272 of 500 done\n",
      "273 of 500 done\n",
      "274 of 500 done\n",
      "275 of 500 done\n",
      "276 of 500 done\n",
      "277 of 500 done\n",
      "278 of 500 done\n",
      "279 of 500 done\n",
      "280 of 500 done\n",
      "281 of 500 done\n",
      "282 of 500 done\n",
      "283 of 500 done\n",
      "284 of 500 done\n",
      "285 of 500 done\n",
      "286 of 500 done\n",
      "287 of 500 done\n",
      "288 of 500 done\n",
      "289 of 500 done\n",
      "290 of 500 done\n",
      "291 of 500 done\n",
      "292 of 500 done\n",
      "293 of 500 done\n",
      "294 of 500 done\n",
      "295 of 500 done\n",
      "296 of 500 done\n",
      "297 of 500 done\n",
      "298 of 500 done\n",
      "299 of 500 done\n",
      "300 of 500 done\n",
      "301 of 500 done\n",
      "302 of 500 done\n",
      "303 of 500 done\n",
      "304 of 500 done\n",
      "305 of 500 done\n",
      "306 of 500 done\n",
      "307 of 500 done\n",
      "308 of 500 done\n",
      "309 of 500 done\n",
      "310 of 500 done\n",
      "311 of 500 done\n",
      "312 of 500 done\n",
      "313 of 500 done\n",
      "314 of 500 done\n",
      "315 of 500 done\n",
      "316 of 500 done\n",
      "317 of 500 done\n",
      "318 of 500 done\n",
      "319 of 500 done\n",
      "320 of 500 done\n",
      "321 of 500 done\n",
      "322 of 500 done\n",
      "323 of 500 done\n",
      "324 of 500 done\n",
      "325 of 500 done\n",
      "326 of 500 done\n",
      "327 of 500 done\n",
      "328 of 500 done\n",
      "329 of 500 done\n",
      "330 of 500 done\n",
      "331 of 500 done\n",
      "332 of 500 done\n",
      "333 of 500 done\n",
      "334 of 500 done\n",
      "335 of 500 done\n",
      "336 of 500 done\n",
      "337 of 500 done\n",
      "338 of 500 done\n",
      "339 of 500 done\n",
      "340 of 500 done\n",
      "341 of 500 done\n",
      "342 of 500 done\n",
      "343 of 500 done\n",
      "344 of 500 done\n",
      "345 of 500 done\n",
      "346 of 500 done\n",
      "347 of 500 done\n",
      "348 of 500 done\n",
      "349 of 500 done\n",
      "350 of 500 done\n",
      "351 of 500 done\n",
      "352 of 500 done\n",
      "353 of 500 done\n",
      "354 of 500 done\n",
      "355 of 500 done\n",
      "356 of 500 done\n",
      "357 of 500 done\n",
      "358 of 500 done\n",
      "359 of 500 done\n",
      "360 of 500 done\n",
      "361 of 500 done\n",
      "362 of 500 done\n",
      "363 of 500 done\n",
      "364 of 500 done\n",
      "365 of 500 done\n",
      "366 of 500 done\n",
      "367 of 500 done\n",
      "368 of 500 done\n",
      "369 of 500 done\n",
      "370 of 500 done\n",
      "371 of 500 done\n",
      "372 of 500 done\n",
      "373 of 500 done\n",
      "374 of 500 done\n",
      "375 of 500 done\n",
      "376 of 500 done\n",
      "377 of 500 done\n",
      "378 of 500 done\n",
      "379 of 500 done\n",
      "380 of 500 done\n",
      "381 of 500 done\n",
      "382 of 500 done\n",
      "383 of 500 done\n",
      "384 of 500 done\n",
      "385 of 500 done\n",
      "386 of 500 done\n",
      "387 of 500 done\n",
      "388 of 500 done\n",
      "389 of 500 done\n",
      "390 of 500 done\n",
      "391 of 500 done\n",
      "392 of 500 done\n",
      "393 of 500 done\n",
      "394 of 500 done\n",
      "395 of 500 done\n",
      "396 of 500 done\n",
      "397 of 500 done\n",
      "398 of 500 done\n",
      "399 of 500 done\n",
      "400 of 500 done\n",
      "401 of 500 done\n",
      "402 of 500 done\n",
      "403 of 500 done\n",
      "404 of 500 done\n",
      "405 of 500 done\n",
      "406 of 500 done\n",
      "407 of 500 done\n",
      "408 of 500 done\n",
      "409 of 500 done\n",
      "410 of 500 done\n",
      "411 of 500 done\n",
      "412 of 500 done\n",
      "413 of 500 done\n",
      "414 of 500 done\n",
      "415 of 500 done\n",
      "416 of 500 done\n",
      "417 of 500 done\n",
      "418 of 500 done\n",
      "419 of 500 done\n",
      "420 of 500 done\n",
      "421 of 500 done\n",
      "422 of 500 done\n",
      "423 of 500 done\n",
      "424 of 500 done\n",
      "425 of 500 done\n",
      "426 of 500 done\n",
      "427 of 500 done\n",
      "428 of 500 done\n",
      "429 of 500 done\n",
      "430 of 500 done\n",
      "431 of 500 done\n",
      "432 of 500 done\n",
      "433 of 500 done\n",
      "434 of 500 done\n",
      "435 of 500 done\n",
      "436 of 500 done\n",
      "437 of 500 done\n",
      "438 of 500 done\n",
      "439 of 500 done\n",
      "440 of 500 done\n",
      "441 of 500 done\n",
      "442 of 500 done\n",
      "443 of 500 done\n",
      "444 of 500 done\n",
      "445 of 500 done\n",
      "446 of 500 done\n",
      "447 of 500 done\n",
      "448 of 500 done\n",
      "449 of 500 done\n",
      "450 of 500 done\n",
      "451 of 500 done\n",
      "452 of 500 done\n",
      "453 of 500 done\n",
      "454 of 500 done\n",
      "455 of 500 done\n",
      "456 of 500 done\n",
      "457 of 500 done\n",
      "458 of 500 done\n",
      "459 of 500 done\n",
      "460 of 500 done\n",
      "461 of 500 done\n",
      "462 of 500 done\n",
      "463 of 500 done\n",
      "464 of 500 done\n",
      "465 of 500 done\n",
      "466 of 500 done\n",
      "467 of 500 done\n",
      "468 of 500 done\n",
      "469 of 500 done\n",
      "470 of 500 done\n",
      "471 of 500 done\n",
      "472 of 500 done\n",
      "473 of 500 done\n",
      "474 of 500 done\n",
      "475 of 500 done\n",
      "476 of 500 done\n",
      "477 of 500 done\n",
      "478 of 500 done\n",
      "479 of 500 done\n",
      "480 of 500 done\n",
      "481 of 500 done\n",
      "482 of 500 done\n",
      "483 of 500 done\n",
      "484 of 500 done\n",
      "485 of 500 done\n",
      "486 of 500 done\n",
      "487 of 500 done\n",
      "488 of 500 done\n",
      "489 of 500 done\n",
      "490 of 500 done\n",
      "491 of 500 done\n",
      "492 of 500 done\n",
      "493 of 500 done\n",
      "494 of 500 done\n",
      "495 of 500 done\n",
      "496 of 500 done\n",
      "497 of 500 done\n",
      "498 of 500 done\n",
      "499 of 500 done\n"
     ]
    }
   ],
   "source": [
    "### defining the parameters and variables \n",
    "N = 1000\n",
    "T = 500  \n",
    "r = 0.99\n",
    "R1 = np.zeros([T,N])\n",
    "R2 = np.zeros([T,N])\n",
    "R3 = np.zeros([T,N])\n",
    "R4 = np.zeros([T,N])\n",
    "R5 = np.zeros([T,N])\n",
    "rew1 = np.zeros([T,N])\n",
    "rew2 = np.zeros([T,N])\n",
    "rew3 = np.zeros([T,N])\n",
    "rew4 = np.zeros([T,N])\n",
    "rew5 = np.zeros([T,N])\n",
    "V = np.zeros([T,N])\n",
    "N1 = np.zeros([T,K])\n",
    "N2 = np.zeros([T,K])\n",
    "N3 = np.zeros([T,K])\n",
    "N4 = np.zeros([T,K])\n",
    "N5 = np.zeros([T,K])\n",
    "n1 = np.zeros([T,N])\n",
    "n2 = np.zeros([T,N])\n",
    "n3 = np.zeros([T,N])\n",
    "n4 = np.zeros([T,N])\n",
    "n5 = np.zeros([T,N])\n",
    "for t in range(T):\n",
    "    print(t,\"of\",T,\"done\")\n",
    "    q1 = np.zeros(K)\n",
    "    q2 = np.zeros(K)\n",
    "    q3 = np.zeros(K)\n",
    "    q4 = np.zeros(K)\n",
    "    q5 = np.zeros(K)\n",
    "    eps = 0.1\n",
    "    for n in range(1,N):\n",
    "        V[t,n] = find_v()\n",
    "        \n",
    "        ind = greedy(q1)   #### greedy algorithm\n",
    "        N1[t][ind]+=1\n",
    "        n1[t][n] = N1[t][ind]\n",
    "        reward = np.random.normal(mu[ind],1)\n",
    "        q1[ind] = q1[ind] + (1/N1[t][ind])*(reward - q1[ind])\n",
    "        R1[t,n] = R1[t,n-1] + (1/(n))*(reward - R1[t,n-1])\n",
    "        rew1[t,n] = reward\n",
    "        \n",
    "        ind = eps_greedy(q2,0.1) #### epsilon greedy with epsilon = 0.1\n",
    "        N2[t][ind]+=1\n",
    "        n2[t][n] = N2[t][ind]\n",
    "        reward = np.random.normal(mu[ind],1)\n",
    "        q2[ind] = q2[ind] + (1/N2[t][ind])*(reward - q2[ind])\n",
    "        R2[t,n] = R2[t,n-1] + (1/(n))*(reward - R2[t,n-1])\n",
    "        rew2[t,n] = reward\n",
    "        \n",
    "        ind = eps_greedy(q3,0.01)  #### epsilon greedy with epsilon = 0.01\n",
    "        N3[t][ind]+=1\n",
    "        n3[t][n] = N3[t][ind]\n",
    "        reward = np.random.normal(mu[ind],1)\n",
    "        q3[ind] = q3[ind] + (1/N3[t][ind])*(reward - q3[ind])\n",
    "        R3[t,n] = R3[t,n-1] + (1/(n))*(reward - R3[t,n-1])\n",
    "        rew3[t,n] = reward\n",
    "        \n",
    "        ind = eps_greedy(q4,eps)  #### epsilon greedy with decay\n",
    "        eps = eps*0.99\n",
    "        N4[t][ind]+=1\n",
    "        n4[t][n] = N4[t][ind]\n",
    "        reward = np.random.normal(mu[ind],1)\n",
    "        q4[ind] = q4[ind] + (1/N4[t][ind])*(reward - q4[ind])\n",
    "        R4[t,n] = R4[t,n-1] + (1/(n))*(reward - R4[t,n-1])\n",
    "        rew4[t,n] = reward\n",
    "        \n",
    "        ind = UCB(q5,N5[t],t)  ### uppper confidence bound algo\n",
    "        N5[t][ind]+=1\n",
    "        n5[t][n] = N5[t][ind]\n",
    "        reward = np.random.normal(mu[ind],1)\n",
    "        q5[ind] = q5[ind] + (1/N5[t][ind])*(reward - q5[ind])\n",
    "        R5[t,n] = R5[t,n-1] + (1/(n))*(reward - R5[t,n-1])\n",
    "        rew5[t,n] = reward\n",
    "        \n",
    "#### taking mean over the number of times\n",
    "r1 = np.mean(R1,axis=0)\n",
    "r2 = np.mean(R2,axis=0)\n",
    "r3 = np.mean(R3,axis=0)\n",
    "r4 = np.mean(R4,axis=0)\n",
    "r5 = np.mean(R5,axis=0)\n",
    "rr1 = np.mean(rew1,axis=0)\n",
    "rr2 = np.mean(rew2,axis=0)\n",
    "rr3 = np.mean(rew3,axis=0)\n",
    "rr4 = np.mean(rew4,axis=0)\n",
    "rr5 = np.mean(rew5,axis=0)\n",
    "v = np.mean(V,axis=0)"
   ]
  },
  {
   "cell_type": "code",
   "execution_count": 21,
   "metadata": {},
   "outputs": [],
   "source": [
    "### function usefull while plotting histogram\n",
    "def conv(x):\n",
    "    res = []\n",
    "    for i in range(0,x.shape[0]):\n",
    "        for j in range(0,int(x[i])):\n",
    "            res.append(i+1)\n",
    "    return np.array(res)"
   ]
  },
  {
   "cell_type": "code",
   "execution_count": null,
   "metadata": {},
   "outputs": [],
   "source": []
  },
  {
   "cell_type": "code",
   "execution_count": 22,
   "metadata": {},
   "outputs": [
    {
     "data": {
      "image/png": "[encoded data removed]",
      "text/plain": [
       "<Figure size 432x288 with 1 Axes>"
      ]
     },
     "metadata": {
      "needs_background": "light"
     },
     "output_type": "display_data"
    }
   ],
   "source": [
    "##### plotting the average reward per time step for different algorithms ####\n",
    "plt.plot(rr1, label = \"Greedy\")\n",
    "plt.plot(rr2, label = \"Epsilon Greedy (0.1)\")\n",
    "plt.plot(rr3, label = \"Epsilon Greedy (0.01)\")\n",
    "plt.plot(rr4, label = \"Epsilon Greedy with decay\")\n",
    "plt.plot(rr5, label = \"UCB\")\n",
    "plt.xlabel('Time step')\n",
    "plt.ylabel('Average Reward')\n",
    "plt.legend()\n",
    "plt.show()"
   ]
  },
  {
   "cell_type": "code",
   "execution_count": null,
   "metadata": {},
   "outputs": [],
   "source": []
  },
  {
   "cell_type": "markdown",
   "metadata": {},
   "source": [
    "In the next part, the histograms are plotted as asked in part (d) of the question."
   ]
  },
  {
   "cell_type": "code",
   "execution_count": 23,
   "metadata": {},
   "outputs": [
    {
     "data": {
      "image/png": "[encoded data removed]",
      "text/plain": [
       "<Figure size 432x288 with 1 Axes>"
      ]
     },
     "metadata": {
      "needs_background": "light"
     },
     "output_type": "display_data"
    }
   ],
   "source": [
    "#### Greedy algorithm ####\n",
    "a1 = np.mean(N1,axis=0)\n",
    "a1 = conv(a1)\n",
    "plt.hist(a1,bins = 'auto',label=\"Greedy\")\n",
    "plt.xlim(0,10)\n",
    "plt.xlabel(\"Bandit number\")\n",
    "plt.legend()\n",
    "plt.show()"
   ]
  },
  {
   "cell_type": "code",
   "execution_count": 24,
   "metadata": {},
   "outputs": [
    {
     "data": {
      "image/png": "[encoded data removed]",
      "text/plain": [
       "<Figure size 432x288 with 1 Axes>"
      ]
     },
     "metadata": {
      "needs_background": "light"
     },
     "output_type": "display_data"
    }
   ],
   "source": [
    "#### epsilon greedy with epsilon = 0.1 ####\n",
    "a2 = np.mean(N2,axis=0)\n",
    "a2 = conv(a2)\n",
    "plt.hist(a2,bins = 'auto',label=\"Epsilon Greedy (0.1)\")\n",
    "plt.xlim(0,10)\n",
    "plt.xlabel(\"Bandit number\")\n",
    "plt.legend()\n",
    "plt.show()"
   ]
  },
  {
   "cell_type": "code",
   "execution_count": 25,
   "metadata": {},
   "outputs": [
    {
     "data": {
      "image/png": "[encoded data removed]",
      "text/plain": [
       "<Figure size 432x288 with 1 Axes>"
      ]
     },
     "metadata": {
      "needs_background": "light"
     },
     "output_type": "display_data"
    }
   ],
   "source": [
    "#### epsilon greedy with epsilon = 0.01 ####\n",
    "a3 = np.mean(N3,axis=0)\n",
    "a3 = conv(a3)\n",
    "plt.hist(a3,bins = 'auto',label=\"Epsilon Greedy (0.01)\")\n",
    "plt.xlim(0,10)\n",
    "plt.xlabel(\"Bandit number\")\n",
    "plt.legend()\n",
    "plt.show()"
   ]
  },
  {
   "cell_type": "code",
   "execution_count": 26,
   "metadata": {},
   "outputs": [
    {
     "data": {
      "image/png": "[encoded data removed]",
      "text/plain": [
       "<Figure size 432x288 with 1 Axes>"
      ]
     },
     "metadata": {
      "needs_background": "light"
     },
     "output_type": "display_data"
    }
   ],
   "source": [
    "#### epsilon greedy with decay ####\n",
    "a4 = np.mean(N4,axis=0)\n",
    "a4 = conv(a4)\n",
    "plt.hist(a4,bins = 'auto',label=\"Epsilon Greedy with decay\")\n",
    "plt.xlim(0,10)\n",
    "plt.xlabel(\"Bandit number\")\n",
    "plt.legend()\n",
    "plt.show()"
   ]
  },
  {
   "cell_type": "code",
   "execution_count": 27,
   "metadata": {},
   "outputs": [
    {
     "data": {
      "image/png": "[encoded data removed]",
      "text/plain": [
       "<Figure size 432x288 with 1 Axes>"
      ]
     },
     "metadata": {
      "needs_background": "light"
     },
     "output_type": "display_data"
    }
   ],
   "source": [
    "#### UCB ####\n",
    "a5 = np.mean(N5,axis=0)\n",
    "a5 = conv(a5)\n",
    "plt.hist(a5,bins = 'auto',label=\"UCB\")\n",
    "plt.xlim(0,10)\n",
    "plt.xlabel(\"Bandit number\")\n",
    "plt.legend()\n",
    "plt.show()"
   ]
  },
  {
   "cell_type": "markdown",
   "metadata": {},
   "source": [
    "In the next part, the regrets as a function of time step are plotted for the different algorithms. First, all the individual graphs as plotted and then a single graph comparing all the regrets for different algorithms is plotted."
   ]
  },
  {
   "cell_type": "code",
   "execution_count": 28,
   "metadata": {},
   "outputs": [
    {
     "data": {
      "image/png": "[encoded data removed]",
      "text/plain": [
       "<Figure size 432x288 with 1 Axes>"
      ]
     },
     "metadata": {
      "needs_background": "light"
     },
     "output_type": "display_data"
    }
   ],
   "source": [
    "#### plotting regret for greedy algorithm ####\n",
    "regret1 = np.mean(n1,axis=0)*(v-r1)\n",
    "plt.plot(regret1,label='Greedy')\n",
    "plt.xlabel('Rounds')\n",
    "plt.ylabel('Regret')\n",
    "plt.legend()\n",
    "plt.show()"
   ]
  },
  {
   "cell_type": "code",
   "execution_count": 29,
   "metadata": {},
   "outputs": [
    {
     "data": {
      "image/png": "[encoded data removed]",
      "text/plain": [
       "<Figure size 432x288 with 1 Axes>"
      ]
     },
     "metadata": {
      "needs_background": "light"
     },
     "output_type": "display_data"
    }
   ],
   "source": [
    "#### plotting regret for epsilon greedy algorithm with epsilon = 0.1####\n",
    "regret2 = np.mean(n2,axis=0)*(v-r2)\n",
    "plt.plot(regret2,label='Epsilon Greedy (0.1)')\n",
    "plt.xlabel('Rounds')\n",
    "plt.ylabel('Regret')\n",
    "plt.legend()\n",
    "plt.show()"
   ]
  },
  {
   "cell_type": "code",
   "execution_count": 30,
   "metadata": {},
   "outputs": [
    {
     "data": {
      "image/png": "[encoded data removed]",
      "text/plain": [
       "<Figure size 432x288 with 1 Axes>"
      ]
     },
     "metadata": {
      "needs_background": "light"
     },
     "output_type": "display_data"
    }
   ],
   "source": [
    "#### plotting regret for epsilon greedy algorithm with epsilon = 0.01####\n",
    "regret3 = np.mean(n3,axis=0)*(v-r3)\n",
    "plt.plot(regret3,label='Epsilon Greedy (0.01)')\n",
    "plt.xlabel('Rounds')\n",
    "plt.ylabel('Regret')\n",
    "plt.legend()\n",
    "plt.show()"
   ]
  },
  {
   "cell_type": "code",
   "execution_count": 31,
   "metadata": {},
   "outputs": [
    {
     "data": {
      "image/png": "[encoded data removed]",
      "text/plain": [
       "<Figure size 432x288 with 1 Axes>"
      ]
     },
     "metadata": {
      "needs_background": "light"
     },
     "output_type": "display_data"
    }
   ],
   "source": [
    "#### plotting regret for greedy with decay algorithm ####\n",
    "regret4 = np.mean(n4,axis=0)*(v-r4)\n",
    "plt.plot(regret4,label='Epsilon Greedy with decay')\n",
    "plt.xlabel('Rounds')\n",
    "plt.ylabel('Regret')\n",
    "plt.legend()\n",
    "plt.show()"
   ]
  },
  {
   "cell_type": "code",
   "execution_count": 32,
   "metadata": {},
   "outputs": [
    {
     "data": {
      "image/png": "[encoded data removed]",
      "text/plain": [
       "<Figure size 432x288 with 1 Axes>"
      ]
     },
     "metadata": {
      "needs_background": "light"
     },
     "output_type": "display_data"
    }
   ],
   "source": [
    "#### plotting regret for UCB algorithm ####\n",
    "regret5 = np.mean(n5,axis=0)*(v-r5)\n",
    "plt.plot(regret5,label='UCB')\n",
    "plt.xlabel('Rounds')\n",
    "plt.ylabel('Regret')\n",
    "plt.legend()\n",
    "plt.show()"
   ]
  },
  {
   "cell_type": "code",
   "execution_count": 33,
   "metadata": {},
   "outputs": [
    {
     "data": {
      "image/png": "[encoded data removed]",
      "text/plain": [
       "<Figure size 432x288 with 1 Axes>"
      ]
     },
     "metadata": {
      "needs_background": "light"
     },
     "output_type": "display_data"
    }
   ],
   "source": [
    "#### plotting a combined graph for all the regrets ####\n",
    "plt.plot(regret1,label='Greedy')\n",
    "plt.plot(regret2,label='Epsilon Greedy (0.1)')\n",
    "plt.plot(regret3,label='Epsilon Greedy (0.01)')\n",
    "plt.plot(regret4,label='Epsilon Greedy with decay')\n",
    "plt.plot(regret5,label='UCB')\n",
    "plt.xlabel('Rounds')\n",
    "plt.ylabel('Regret')\n",
    "plt.legend()\n",
    "plt.show()"
   ]
  },
  {
   "cell_type": "markdown",
   "metadata": {},
   "source": [
    "Solution to part (f):"
   ]
  },
  {
   "cell_type": "markdown",
   "metadata": {},
   "source": [
    "From the observations of the plots of the previous questions, we can easily see that UCB (upper condition bound) algorithm gives the best result. This is because in this algorithm, we pick the arm for which we are the most unsure. Therefore, very soon, the algorithm explores all the options available and learns to select the right arm.\n",
    "We can see that greedy algorithm works the worst as there is very less chance of exploration. Epsilon greedy algorithm works better than this and epsilon greedy with decay algorithm works better than epsilon greedy algorithm."
   ]
  },
  {
   "cell_type": "markdown",
   "metadata": {},
   "source": [
    "Solution to part (g):"
   ]
  },
  {
   "cell_type": "markdown",
   "metadata": {},
   "source": [
    "When we take the mean value of reward of the best and second best arm to be very close, some algorithms such as epsilon greedy with epsilon = 0.01 is not able to clearly distinguish between the best and second best arm. Just like the previous cases, greedy algorithm is not able to find the best action here, as well. However, UCB seems to work comparitively better than the other algorithms. It is also worth mentioning that in this case, the second best arm is picked many times by all the algorithms."
   ]
  }
 ],
 "metadata": {
  "kernelspec": {
   "display_name": "Python 3",
   "language": "python",
   "name": "python3"
  },
  "language_info": {
   "codemirror_mode": {
    "name": "ipython",
    "version": 3
   },
   "file_extension": ".py",
   "mimetype": "text/x-python",
   "name": "python",
   "nbconvert_exporter": "python",
   "pygments_lexer": "ipython3",
   "version": "3.7.5"
  }
 },
 "nbformat": 4,
 "nbformat_minor": 4
}
