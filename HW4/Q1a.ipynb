{
 "cells": [
  {
   "cell_type": "code",
   "execution_count": 1,
   "metadata": {
    "colab": {
     "base_uri": "https://localhost:8080/",
     "height": 272
    },
    "colab_type": "code",
    "id": "dRJtW91ryAjW",
    "outputId": "ae5cb058-cb18-43e9-ede3-9b727e6f0ecd"
   },
   "outputs": [
    {
     "name": "stdout",
     "output_type": "stream",
     "text": [
      "Requirement already satisfied: gym in /usr/local/lib/python3.6/dist-packages (0.17.1)\n",
      "Requirement already satisfied: scipy in /usr/local/lib/python3.6/dist-packages (from gym) (1.4.1)\n",
      "Requirement already satisfied: numpy>=1.10.4 in /usr/local/lib/python3.6/dist-packages (from gym) (1.18.3)\n",
      "Requirement already satisfied: pyglet<=1.5.0,>=1.4.0 in /usr/local/lib/python3.6/dist-packages (from gym) (1.5.0)\n",
      "Requirement already satisfied: cloudpickle<1.4.0,>=1.2.0 in /usr/local/lib/python3.6/dist-packages (from gym) (1.3.0)\n",
      "Requirement already satisfied: six in /usr/local/lib/python3.6/dist-packages (from gym) (1.12.0)\n",
      "Requirement already satisfied: future in /usr/local/lib/python3.6/dist-packages (from pyglet<=1.5.0,>=1.4.0->gym) (0.16.0)\n",
      "Requirement already satisfied: gym[box2d] in /usr/local/lib/python3.6/dist-packages (0.17.1)\n",
      "Requirement already satisfied: numpy>=1.10.4 in /usr/local/lib/python3.6/dist-packages (from gym[box2d]) (1.18.3)\n",
      "Requirement already satisfied: scipy in /usr/local/lib/python3.6/dist-packages (from gym[box2d]) (1.4.1)\n",
      "Requirement already satisfied: cloudpickle<1.4.0,>=1.2.0 in /usr/local/lib/python3.6/dist-packages (from gym[box2d]) (1.3.0)\n",
      "Requirement already satisfied: pyglet<=1.5.0,>=1.4.0 in /usr/local/lib/python3.6/dist-packages (from gym[box2d]) (1.5.0)\n",
      "Requirement already satisfied: six in /usr/local/lib/python3.6/dist-packages (from gym[box2d]) (1.12.0)\n",
      "Requirement already satisfied: box2d-py~=2.3.5; extra == \"box2d\" in /usr/local/lib/python3.6/dist-packages (from gym[box2d]) (2.3.8)\n",
      "Requirement already satisfied: future in /usr/local/lib/python3.6/dist-packages (from pyglet<=1.5.0,>=1.4.0->gym[box2d]) (0.16.0)\n"
     ]
    }
   ],
   "source": [
    "# This part is required to be run in Google Colab as it does not have lunar lander continuous pre installed on it.\n",
    "!pip install gym\n",
    "!pip install \"gym[box2d]\""
   ]
  },
  {
   "cell_type": "code",
   "execution_count": 0,
   "metadata": {
    "colab": {},
    "colab_type": "code",
    "id": "suywAaBbePn1"
   },
   "outputs": [],
   "source": [
    "import numpy as np\n",
    "import matplotlib.pyplot as plt\n",
    "import torch\n",
    "import torch.nn as nn\n",
    "import torch.nn.functional as F\n",
    "import gym\n",
    "import random\n",
    "import copy"
   ]
  },
  {
   "cell_type": "code",
   "execution_count": null,
   "metadata": {},
   "outputs": [],
   "source": [
    "####### Ornstein-Uhlenbeck process #######"
   ]
  },
  {
   "cell_type": "code",
   "execution_count": 0,
   "metadata": {
    "colab": {},
    "colab_type": "code",
    "id": "fSRKmTE2uVga"
   },
   "outputs": [],
   "source": [
    "class OU:\n",
    "    def __init__(self, size, seed, mu=0., theta=0.15, sigma=0.2):\n",
    "        self.mu = mu * np.ones(size)\n",
    "        self.theta = theta\n",
    "        self.sigma = sigma\n",
    "        self.seed = random.seed(seed)\n",
    "        self.size = size\n",
    "        self.reset()\n",
    "\n",
    "    def reset(self):\n",
    "        self.state = copy.copy(self.mu)\n",
    "\n",
    "    def sample(self):\n",
    "        x = self.state\n",
    "        dx = self.theta * (self.mu - x) + self.sigma * np.random.standard_normal(self.size)\n",
    "        self.state = x + dx\n",
    "        return self.state"
   ]
  },
  {
   "cell_type": "code",
   "execution_count": 0,
   "metadata": {
    "colab": {},
    "colab_type": "code",
    "id": "_TRztUgTzVFr"
   },
   "outputs": [],
   "source": [
    "noise = OU((1,1),0) ### defining the noise"
   ]
  },
  {
   "cell_type": "code",
   "execution_count": 5,
   "metadata": {
    "colab": {
     "base_uri": "https://localhost:8080/",
     "height": 34
    },
    "colab_type": "code",
    "id": "yg65Q0b9dxdT",
    "outputId": "85475e2d-df8d-4994-d0c0-40ebe8d5935d"
   },
   "outputs": [
    {
     "data": {
      "text/plain": [
       "array([0.13295834])"
      ]
     },
     "execution_count": 5,
     "metadata": {
      "tags": []
     },
     "output_type": "execute_result"
    }
   ],
   "source": [
    "noise.sample()[0]"
   ]
  },
  {
   "cell_type": "code",
   "execution_count": 0,
   "metadata": {
    "colab": {},
    "colab_type": "code",
    "id": "3a-EctQP3XaA"
   },
   "outputs": [],
   "source": []
  },
  {
   "cell_type": "code",
   "execution_count": 6,
   "metadata": {
    "colab": {
     "base_uri": "https://localhost:8080/",
     "height": 51
    },
    "colab_type": "code",
    "id": "tLKYSPmReydm",
    "outputId": "d71eb134-99fd-41ec-a583-32258b8f0087"
   },
   "outputs": [
    {
     "name": "stderr",
     "output_type": "stream",
     "text": [
      "/usr/local/lib/python3.6/dist-packages/gym/logger.py:30: UserWarning: \u001b[33mWARN: Box bound precision lowered by casting to float32\u001b[0m\n",
      "  warnings.warn(colorize('%s: %s'%('WARN', msg % args), 'yellow'))\n"
     ]
    }
   ],
   "source": [
    "env = gym.make('MountainCarContinuous-v0')\n",
    "# env = gym.make('LunarLanderContinuous-v2')"
   ]
  },
  {
   "cell_type": "code",
   "execution_count": 0,
   "metadata": {
    "colab": {},
    "colab_type": "code",
    "id": "Z8iU45CEe_30"
   },
   "outputs": [],
   "source": [
    "state = env.reset()"
   ]
  },
  {
   "cell_type": "code",
   "execution_count": 0,
   "metadata": {
    "colab": {},
    "colab_type": "code",
    "id": "I4-_lqhjlu0l"
   },
   "outputs": [],
   "source": [
    "device = 'cuda:0'  ##### GPU device is used as it was available on colab"
   ]
  },
  {
   "cell_type": "code",
   "execution_count": 9,
   "metadata": {
    "colab": {
     "base_uri": "https://localhost:8080/",
     "height": 34
    },
    "colab_type": "code",
    "id": "7BzaHXfWlz1V",
    "outputId": "383a91a3-4075-4a5e-8295-0c27b3f0877a"
   },
   "outputs": [
    {
     "data": {
      "text/plain": [
       "<torch.autograd.anomaly_mode.set_detect_anomaly at 0x7f592b168048>"
      ]
     },
     "execution_count": 9,
     "metadata": {
      "tags": []
     },
     "output_type": "execute_result"
    }
   ],
   "source": [
    "torch.autograd.set_detect_anomaly(True)"
   ]
  },
  {
   "cell_type": "code",
   "execution_count": 0,
   "metadata": {
    "colab": {},
    "colab_type": "code",
    "id": "-wymjckzfjHN"
   },
   "outputs": [],
   "source": []
  },
  {
   "cell_type": "code",
   "execution_count": 0,
   "metadata": {
    "colab": {},
    "colab_type": "code",
    "id": "3At20ktUsTWz"
   },
   "outputs": [],
   "source": [
    "######## function to copy parameters from one model to another similar model ########"
   ]
  },
  {
   "cell_type": "code",
   "execution_count": 0,
   "metadata": {
    "colab": {},
    "colab_type": "code",
    "id": "HrD4yQ0mzbSp"
   },
   "outputs": [],
   "source": [
    "def copy_params(model1, model2):\n",
    "  for a,b in zip(model1.parameters(),model2.parameters()):\n",
    "    b.data = copy.deepcopy(a.data)"
   ]
  },
  {
   "cell_type": "code",
   "execution_count": null,
   "metadata": {},
   "outputs": [],
   "source": [
    "##### funciton implementing soft update of target functions #####"
   ]
  },
  {
   "cell_type": "code",
   "execution_count": 0,
   "metadata": {
    "colab": {},
    "colab_type": "code",
    "id": "eED_ozv-SMAD"
   },
   "outputs": [],
   "source": [
    "def soft_update(local_model, target_model, tau):\n",
    "  for target_param, local_param in zip(target_model.parameters(), local_model.parameters()):\n",
    "    target_param.data = copy.deepcopy(tau*local_param.data + (1.0-tau)*target_param.data)"
   ]
  },
  {
   "cell_type": "code",
   "execution_count": null,
   "metadata": {},
   "outputs": [],
   "source": [
    "#### function to update the paramters of the network using DDPG ####"
   ]
  },
  {
   "cell_type": "code",
   "execution_count": 0,
   "metadata": {
    "colab": {},
    "colab_type": "code",
    "id": "JLInAUXwplWq"
   },
   "outputs": [],
   "source": [
    "def update_params(D):\n",
    "  pol1.zero_grad()\n",
    "  Q1.zero_grad()\n",
    "  pol2.zero_grad()\n",
    "  Q2.zero_grad()\n",
    "  ind = np.random.choice(range(len(D)), min(128,len(D)), replace=False)  ### 128 instances from experience are chosen\n",
    "  t = 0\n",
    "  d = []\n",
    "  for i in ind:\n",
    "    s1 = torch.Tensor(D[i][0]).to(device)\n",
    "    a1 = D[i][1].detach()\n",
    "    r = D[i][2]\n",
    "    s2 = torch.Tensor(D[i][3]).to(device)\n",
    "    d.append(D[i][4])\n",
    "    if(t==0):\n",
    "      state2 = s2.unsqueeze(dim=0)\n",
    "      state1 = s1.unsqueeze(dim=0)\n",
    "      act1 = a1.unsqueeze(dim=0)\n",
    "      rew = torch.Tensor([r])\n",
    "      t=1\n",
    "    else:\n",
    "      state2 = torch.cat([state2,s2.unsqueeze(dim=0)],dim = 0)\n",
    "      state1 = torch.cat([state1,s1.unsqueeze(dim=0)],dim = 0)\n",
    "      act1 = torch.cat([act1,a1.unsqueeze(dim=0)],dim = 0)\n",
    "      rew = torch.cat([rew,torch.Tensor([r])])\n",
    "  \n",
    "\n",
    "\n",
    "  state2 = state2.to(device)\n",
    "  act1 = act1.to(device)\n",
    "  rew = rew.to(device)\n",
    "  done = torch.Tensor(d).to(device)\n",
    "\n",
    "  act2 = pol2(state2)\n",
    "  # print(\"s1\",state1.shape)\n",
    "  # print(\"act1\",act1.shape)\n",
    "  # print(\"rew\",rew.shape)\n",
    "  # print(\"s2\",state2.shape)\n",
    "  # print(\"act2\",act2.shape)\n",
    "  # print(\"done\",done.shape)\n",
    "  y = rew.reshape([rew.shape[0],1]) + 0.99*Q2(state2,act2)*(1-done.reshape([done.shape[0],1]))\n",
    "  q = Q1(state1,act1)\n",
    "  loss1 = F.mse_loss(q,y)\n",
    "  # print(\"loss1\",loss1)\n",
    "  opt1.zero_grad()\n",
    "  loss1.backward()\n",
    "  opt1.step()\n",
    "  \n",
    "  act3 = pol1(state1)\n",
    "  loss2 = -1*Q1(state1,act3).mean()\n",
    "  # print(\"loss2\",loss2)\n",
    "  opt2.zero_grad()\n",
    "  loss2.backward()\n",
    "  opt2.step()\n",
    "\n",
    "  soft_update(Q1, Q2, TAU)\n",
    "  soft_update(pol1, pol2, TAU) \n",
    "\n",
    "  return loss1"
   ]
  },
  {
   "cell_type": "code",
   "execution_count": 0,
   "metadata": {
    "colab": {},
    "colab_type": "code",
    "id": "v4sMel3MitOb"
   },
   "outputs": [],
   "source": [
    "class Q_net(nn.Module):\n",
    "  def __init__(self, state_size, action_size):\n",
    "    super(Q_net, self).__init__()\n",
    "    self.fcs1 = nn.Linear(state_size, 40)\n",
    "    self.fc2 = nn.Linear(40+action_size, 30)\n",
    "    self.fc3 = nn.Linear(30, 1)\n",
    "\n",
    "  def forward(self, state, action):\n",
    "    xs = F.relu(self.fcs1(state))\n",
    "    x = torch.cat((xs, action), dim=1)\n",
    "    x = F.relu(self.fc2(x))\n",
    "    return self.fc3(x)"
   ]
  },
  {
   "cell_type": "code",
   "execution_count": 14,
   "metadata": {
    "colab": {
     "base_uri": "https://localhost:8080/",
     "height": 1000
    },
    "colab_type": "code",
    "id": "UM8MhMLehoM3",
    "outputId": "cafa917a-8dba-4d99-cd65-08b2dab572ef"
   },
   "outputs": [
    {
     "name": "stdout",
     "output_type": "stream",
     "text": [
      "Episode  0 Reward -20.28512235353142 R -20.28512235353142\n",
      "Episode  1 Reward -14.974891786079006 R -17.630007069805213\n",
      "Episode  2 Reward -15.51350897217144 R -16.92450770392729\n",
      "Episode  3 Reward -13.6864395711053 R -16.11499067072179\n",
      "Episode  4 Reward -14.621038364839753 R -15.816200209545382\n",
      "Episode  5 Reward -17.191050810962153 R -16.045341976448178\n",
      "Episode  6 Reward -14.837743096432193 R -15.872827850731609\n",
      "Episode  7 Reward -10.772586561629808 R -15.235297689593883\n",
      "Episode  8 Reward -13.658959586351616 R -15.060149011455856\n",
      "Episode  9 Reward -13.284049292574403 R -14.882539039567709\n",
      "Episode  10 Reward -14.49638331952751 R -14.847433974109508\n",
      "Episode  11 Reward -11.91303222776547 R -14.602900495247505\n",
      "Episode  12 Reward -13.424223225722079 R -14.512233012976319\n",
      "Episode  13 Reward -11.899157668477672 R -14.325584774083557\n",
      "Episode  14 Reward -15.2064676751449 R -14.38431030082098\n",
      "Episode  15 Reward -13.211771669214231 R -14.31102663634556\n",
      "Episode  16 Reward -12.63160872151646 R -14.212237347237966\n",
      "Episode  17 Reward -14.807208400229243 R -14.245291294626371\n",
      "Episode  18 Reward -17.38034818522661 R -14.410294288868487\n",
      "Episode  19 Reward -12.116076009831842 R -14.295583374916655\n",
      "Episode  20 Reward -16.006316974955876 R -14.377046879680428\n",
      "Episode  21 Reward -12.879833164316516 R -14.30899171080025\n",
      "Episode  22 Reward -15.624252212108027 R -14.366176949987544\n",
      "Episode  23 Reward -17.911957832382026 R -14.513917820087315\n",
      "Episode  24 Reward -14.8784336083515 R -14.528498451617882\n",
      "Episode  25 Reward -16.66646066296905 R -14.61072776743908\n",
      "Episode  26 Reward -15.38923334848024 R -14.63956130747764\n",
      "Episode  27 Reward -13.794301011777744 R -14.609373439774073\n",
      "Episode  28 Reward -17.686999902513367 R -14.71549849021336\n",
      "Episode  29 Reward -14.818982593533926 R -14.718947960324044\n",
      "Episode  30 Reward -13.021422897428595 R -14.664189087327417\n",
      "Episode  31 Reward -11.543016628011227 R -14.566652447973786\n",
      "Episode  32 Reward -16.74718198135408 R -14.63272910050046\n",
      "Episode  33 Reward -15.020910242204035 R -14.644146192903506\n",
      "Episode  34 Reward -17.770329372891702 R -14.733465712331743\n",
      "Episode  35 Reward -16.320721361741324 R -14.777556147037565\n",
      "Episode  36 Reward -16.25137308575247 R -14.817389037273102\n",
      "Episode  37 Reward -14.937265287295949 R -14.8205436754316\n",
      "Episode  38 Reward -14.664128860086612 R -14.816533039140703\n",
      "Episode  39 Reward -20.03177620650416 R -14.946914118324788\n",
      "Episode  40 Reward -15.464467924820639 R -14.959537381897857\n",
      "Episode  41 Reward -18.018233541812986 R -15.032363480943454\n",
      "Episode  42 Reward -16.59769828702481 R -15.068766615968602\n",
      "Episode  43 Reward -18.451362547235664 R -15.145643796224673\n",
      "Episode  44 Reward -14.258721775579865 R -15.125934417988121\n",
      "Episode  45 Reward -14.356575137691864 R -15.109209216242549\n",
      "Episode  46 Reward -14.01275409094709 R -15.085880383789453\n",
      "Episode  47 Reward -18.719679426825852 R -15.161584530519379\n",
      "Episode  48 Reward -17.72167001372058 R -15.21383117303369\n",
      "Episode  49 Reward -11.633052301004 R -15.142215595593095\n",
      "Episode  50 Reward -12.642725731732778 R -15.093205990419364\n",
      "Episode  51 Reward -14.131747075484041 R -15.074716395901374\n",
      "Episode  52 Reward -16.128011801193036 R -15.094589894114424\n",
      "Episode  53 Reward -11.79800787615231 R -15.033542078966978\n",
      "Episode  54 Reward -15.956340155174487 R -15.050320225807114\n",
      "Episode  55 Reward -16.841183267397273 R -15.082299922978367\n",
      "Episode  56 Reward -13.493193669434637 R -15.054420865898653\n",
      "Episode  57 Reward -12.640680824053545 R -15.012804658280633\n",
      "Episode  58 Reward -17.678110073434222 R -15.057979326334085\n",
      "Episode  59 Reward -14.241665774459188 R -15.044374100469502\n",
      "Episode  60 Reward -13.384328075714935 R -15.017160231211232\n",
      "Episode  61 Reward -21.844963604951424 R -15.127286092078009\n",
      "Episode  62 Reward -46.9767425197864 R -15.632833019501952\n",
      "Episode  63 Reward -53.48546125032587 R -16.224280335608576\n",
      "Episode  64 Reward -48.34480976344107 R -16.718442326806\n",
      "Episode  65 Reward -43.57706109817903 R -17.125391096069226\n",
      "Episode  66 Reward -12.829989206086982 R -17.061280620099343\n",
      "Episode  67 Reward -17.37051269855562 R -17.065828150664878\n",
      "Episode  68 Reward -13.992891692050563 R -17.021292839670465\n",
      "Episode  69 Reward -13.773719093105374 R -16.974898929005253\n",
      "Episode  70 Reward -17.467300850814276 R -16.98183416734059\n",
      "Episode  71 Reward -13.256104452255737 R -16.930087921297748\n",
      "Episode  72 Reward -16.34730930059044 R -16.922104652520936\n",
      "Episode  73 Reward -14.06717955820724 R -16.88352458367886\n",
      "Episode  74 Reward -18.21169273877942 R -16.90123349241353\n",
      "Episode  75 Reward -21.748396263717623 R -16.965011949930695\n",
      "Episode  76 Reward -17.07131175097023 R -16.96639246682731\n",
      "Episode  77 Reward -13.480841464816617 R -16.921705915519482\n",
      "Episode  78 Reward -14.926413598302041 R -16.89644905074458\n",
      "Episode  79 Reward -15.53824974594732 R -16.879471559434613\n",
      "Episode  80 Reward -18.434976161931058 R -16.89867531995926\n",
      "Episode  81 Reward -17.05879361486237 R -16.900627982092224\n",
      "Episode  82 Reward -15.937173801253596 R -16.88902010039537\n",
      "Episode  83 Reward -17.032967224888313 R -16.890733756639335\n",
      "Episode  84 Reward -15.054660389163162 R -16.86913289349256\n",
      "Episode  85 Reward -15.235947128487698 R -16.850142361341337\n",
      "Episode  86 Reward -14.245330898402973 R -16.82020199969837\n",
      "Episode  87 Reward 91.02939218415507 R -15.594638429427306\n",
      "Episode  88 Reward 76.99356171886905 R -14.554321573828469\n",
      "Episode  89 Reward -76.35650691657344 R -15.24101252208119\n",
      "Episode  90 Reward 74.02889828761265 R -14.260024491205433\n",
      "Episode  91 Reward -72.81495196661683 R -14.896491094199034\n",
      "Episode  92 Reward 35.78505715032867 R -14.351528209849274\n",
      "Episode  93 Reward -76.2773991584853 R -15.010314071004975\n",
      "Episode  94 Reward -69.50591162288858 R -15.583951939972172\n",
      "Episode  95 Reward 34.10221421977299 R -15.066387709141493\n",
      "Episode  96 Reward 53.39659635836819 R -14.360583749682629\n",
      "Episode  97 Reward -81.6531161500694 R -15.047242243564126\n",
      "Episode  98 Reward 29.79262576923165 R -14.594314283838917\n",
      "Episode  99 Reward -79.39573940527646 R -15.242328535053293\n",
      "Episode  100 Reward -78.1199821073086 R -15.86487956052117\n",
      "Episode  101 Reward 81.67582438772143 R -14.90859814926389\n",
      "Episode  102 Reward 36.58065938080128 R -14.4087024450885\n",
      "Episode  103 Reward 25.36004190730975 R -14.026310672469284\n",
      "Episode  104 Reward -73.42570473325463 R -14.592019187333907\n",
      "Episode  105 Reward -78.72981143131983 R -15.197092699069623\n",
      "Episode  106 Reward 42.001255385518704 R -14.662528698279077\n",
      "Episode  107 Reward 79.76553894510124 R -13.788194738618147\n",
      "Episode  108 Reward 67.13719075708417 R -13.045760009299777\n",
      "Episode  109 Reward 60.51641345842663 R -12.377012977774992\n",
      "Episode  110 Reward 26.579698411512823 R -12.026051613907535\n",
      "Episode  111 Reward 71.61808227798508 R -11.279228989872779\n",
      "Episode  112 Reward 28.98319493388267 R -10.922924353379369\n",
      "Episode  113 Reward 73.91643956372616 R -10.17871940673809\n",
      "Episode  114 Reward 19.87050083356229 R -9.91742183943113\n",
      "Episode  115 Reward -76.97855788948198 R -10.495535081241915\n",
      "Episode  116 Reward -74.83022355331167 R -11.045404213481827\n",
      "Episode  117 Reward -71.20267633615985 R -11.55521160435198\n",
      "Episode  118 Reward 36.665878346663526 R -11.149992361066136\n",
      "Episode  119 Reward -77.41765281984942 R -11.702222864889329\n",
      "Episode  120 Reward -76.6135140897026 R -12.238679817160513\n",
      "Episode  121 Reward -75.86222093259767 R -12.760184252532948\n",
      "Episode  122 Reward 37.09544816403618 R -12.354853907682793\n",
      "Episode  123 Reward -78.39916061880615 R -12.887469284385402\n",
      "Episode  124 Reward -73.80622649299254 R -13.374819342054257\n",
      "Episode  125 Reward -76.09136782735777 R -13.872569726858254\n",
      "Episode  126 Reward 65.22798510820013 R -13.249730712408976\n",
      "Episode  127 Reward 51.15061449635011 R -12.746603015465546\n",
      "Episode  128 Reward -77.12050338050346 R -13.245625498915453\n",
      "Episode  129 Reward 45.6510787021752 R -12.792573928137832\n",
      "Episode  130 Reward -80.14635242712812 R -13.306724909046155\n",
      "Episode  131 Reward 80.76139525119953 R -12.594087635104898\n",
      "Episode  132 Reward 54.62319934978722 R -12.088694499880146\n",
      "Episode  133 Reward -77.0409040640554 R -12.57341248170235\n",
      "Episode  134 Reward 87.03700419979516 R -11.835557543320888\n",
      "Episode  135 Reward -67.85568703478543 R -12.24747026016989\n",
      "Episode  136 Reward -73.40693441109575 R -12.693889706527015\n",
      "Episode  137 Reward 74.20798727059154 R -12.06416596031601\n",
      "Episode  138 Reward 84.63400410883935 R -11.368495672048706\n",
      "Episode  139 Reward 90.02286277738567 R -10.644271683124174\n",
      "Episode  140 Reward 84.84056954887622 R -9.967074227578074\n",
      "Episode  141 Reward 88.8173629748924 R -9.27140917685645\n",
      "Episode  142 Reward 86.60229901626182 R -8.600963665016462\n",
      "Episode  143 Reward 71.55265578122676 R -8.044341307750884\n",
      "Episode  144 Reward 76.93041114053142 R -7.458308532245487\n",
      "Episode  145 Reward 65.99311503209873 R -6.9552165900239515\n",
      "Episode  146 Reward 70.05205402948748 R -6.431357606217751\n",
      "Episode  147 Reward -80.38328635348721 R -6.931032800456059\n",
      "Episode  148 Reward 77.80047992121757 R -6.362364929840799\n",
      "Episode  149 Reward -73.28076244104271 R -6.808487579915479\n",
      "Episode  150 Reward -77.7324839387164 R -7.2781829200399875\n",
      "Episode  151 Reward -79.74848428565844 R -7.7549612184980035\n",
      "Episode  152 Reward 75.11117406241459 R -7.213352491171777\n",
      "Episode  153 Reward 76.09072224617071 R -6.672416940929292\n",
      "Episode  154 Reward 70.36814922256826 R -6.17538103019705\n",
      "Episode  155 Reward -80.71263863252045 R -6.653183963545276\n",
      "Episode  156 Reward 34.0849166974823 R -6.393705615385865\n",
      "Episode  157 Reward -77.94664140496857 R -6.846572297598414\n",
      "Episode  158 Reward 62.29819265214139 R -6.411699562065459\n",
      "Episode  159 Reward -82.79561491789426 R -6.889099033039389\n",
      "Episode  160 Reward 33.297353765156586 R -6.639493736156184\n",
      "Episode  161 Reward -77.02961559301475 R -7.074000661198521\n",
      "Episode  162 Reward 46.75633612408103 R -6.743753196258156\n",
      "Episode  163 Reward -73.99489110498527 R -7.153821110335761\n",
      "Episode  164 Reward -70.54737041403669 R -7.5380244394491\n",
      "Episode  165 Reward 73.38838759780683 R -7.050515933200571\n",
      "Episode  166 Reward -80.18074575427546 R -7.488421500991438\n",
      "Episode  167 Reward 49.92116277901396 R -7.146697785039025\n",
      "Episode  168 Reward -78.23303286485832 R -7.567326986694762\n",
      "Episode  169 Reward 51.81399493346066 R -7.218025093046789\n",
      "Episode  170 Reward -82.03122515816916 R -7.655529186994873\n",
      "Episode  171 Reward 34.826297231089285 R -7.408541824099035\n",
      "Episode  172 Reward -71.87921809994667 R -7.781204692745553\n",
      "Episode  173 Reward -76.72198745438862 R -8.17741608792741\n",
      "Episode  174 Reward -78.65255616555093 R -8.58013117408526\n",
      "Episode  175 Reward 33.47514560864465 R -8.341180737819748\n",
      "Episode  176 Reward -72.0464268169385 R -8.701097382334543\n",
      "Episode  177 Reward -70.6754132777326 R -9.049267696353633\n",
      "Episode  178 Reward -79.45313348364103 R -9.442585382316134\n",
      "Episode  179 Reward -82.74914944730426 R -9.849844071566068\n",
      "Episode  180 Reward -81.11955552198907 R -10.243599383446858\n",
      "Episode  181 Reward -70.03745998040391 R -10.572137079034533\n",
      "Episode  182 Reward -74.16408349722904 R -10.919634053997344\n",
      "Episode  183 Reward -81.36161307298829 R -11.30247089649186\n",
      "Episode  184 Reward -71.53758931296186 R -11.62806613117548\n",
      "Episode  185 Reward -72.53368308599944 R -11.95551568469604\n",
      "Episode  186 Reward -77.773808828978 R -12.307485166751023\n",
      "Episode  187 Reward -77.11564104661888 R -12.652209400154575\n",
      "Episode  188 Reward -74.69585835341586 R -12.980482675039557\n",
      "Episode  189 Reward 51.39280335405584 R -12.64167590646537\n",
      "Episode  190 Reward 92.68147383364514 R -12.090245803114005\n",
      "Episode  191 Reward 44.8315583338006 R -11.793778073234241\n",
      "Episode  192 Reward 93.35968392916097 R -11.248941482548256\n",
      "Episode  193 Reward 75.93578007735223 R -10.799535701311655\n",
      "Episode  194 Reward 92.07495043423147 R -10.271974233949896\n",
      "Episode  195 Reward 85.75361554515467 R -9.782047755485078\n",
      "Episode  196 Reward 81.21224442824615 R -9.320147795161569\n",
      "Episode  197 Reward 83.64025721710868 R -8.850650800150103\n",
      "Episode  198 Reward 67.14144715709733 R -8.46878096116896\n",
      "Episode  199 Reward 87.24563538919543 R -7.990208879417138\n",
      "Episode  200 Reward 87.98326660714318 R -7.5127289018720615\n",
      "Episode  201 Reward 64.6308257250677 R -7.155582591837706\n",
      "Episode  202 Reward 86.2990176606582 R -6.695215102909155\n",
      "Episode  203 Reward 91.3084451415352 R -6.214805003671683\n",
      "Episode  204 Reward 73.06854693700386 R -5.828056945424485\n",
      "Episode  205 Reward 85.8953754356548 R -5.382797564933808\n",
      "Episode  206 Reward 93.31041955073358 R -4.906018738288072\n",
      "Episode  207 Reward 87.51435631342369 R -4.461690012077919\n",
      "Episode  208 Reward 84.62597190040648 R -4.035433256515793\n",
      "Episode  209 Reward 78.70959763575163 R -3.641409299885948\n",
      "Episode  210 Reward 85.76242265705372 R -3.2176944564881294\n",
      "Episode  211 Reward 93.53253777817088 R -2.7613254365133226\n",
      "Episode  212 Reward 92.31631324348848 R -2.314951545996882\n",
      "Episode  213 Reward 86.03703626471355 R -1.902091789872067\n",
      "Episode  214 Reward 93.4961027095969 R -1.4583792573163976\n",
      "Episode  215 Reward 91.5327857119293 R -1.027864604681001\n",
      "Episode  216 Reward 94.5257304314467 R -0.587525457049076\n",
      "Episode  217 Reward 86.7127359141464 R -0.18706554250230775\n",
      "Episode  218 Reward 87.22679271888657 R 0.21208449522092915\n",
      "Episode  219 Reward 93.9278058983529 R 0.6380650470533471\n",
      "Episode  220 Reward 93.11824760781288 R 1.0565274115816707\n",
      "Episode  221 Reward 93.50370389428002 R 1.4729561344767084\n",
      "Episode  222 Reward 92.51409566973771 R 1.8812123655765336\n",
      "Episode  223 Reward 92.78916494191562 R 2.2870514395780472\n",
      "Episode  224 Reward 92.59592659015978 R 2.6884242180250775\n",
      "Episode  225 Reward 92.06808335944592 R 3.0839094354649927\n",
      "Episode  226 Reward 87.12788556460276 R 3.4541472157695647\n",
      "Episode  227 Reward 91.64328266091464 R 3.8409416694763414\n",
      "Episode  228 Reward 82.22220433398635 R 4.183217925653241\n",
      "Episode  229 Reward 94.20617287535102 R 4.574622077608448\n",
      "Episode  230 Reward 91.58194924314311 R 4.951277173563144\n",
      "Episode  231 Reward 92.51525874918151 R 5.328708128630465\n",
      "Episode  232 Reward 37.12270126624618 R 5.465163034800489\n",
      "Episode  233 Reward 85.15107021879122 R 5.805701099689339\n",
      "Episode  234 Reward 91.66214839931135 R 6.171047683943049\n",
      "Episode  235 Reward 94.30781497310176 R 6.544508562286942\n",
      "Episode  236 Reward 91.28305204144407 R 6.9020551592454105\n",
      "Episode  237 Reward 76.3438242680729 R 7.193827298358131\n",
      "Episode  238 Reward 61.23407478285998 R 7.419937120469018\n",
      "Episode  239 Reward 87.73558022449573 R 7.7545856334024625\n",
      "Episode  240 Reward 92.14178717277676 R 8.104739996636381\n",
      "Episode  241 Reward 94.50578886444484 R 8.461769124189308\n",
      "Episode  242 Reward 88.14979307070047 R 8.789703379113224\n",
      "Episode  243 Reward 92.26280803461343 R 9.1318062670456\n",
      "Episode  244 Reward 65.55407023458204 R 9.362101222015138\n",
      "Episode  245 Reward 91.94166656351669 R 9.69779051202124\n",
      "Episode  246 Reward 88.0807838464505 R 10.015130566006786\n",
      "Episode  247 Reward 91.3995639969894 R 10.343293604034942\n",
      "Episode  248 Reward 74.55729832718 R 10.601181173204198\n",
      "Episode  249 Reward 92.52905576484432 R 10.928892671570761\n",
      "Episode  250 Reward 85.00289082888247 R 11.224008202077977\n",
      "Episode  251 Reward 56.093646131238415 R 11.402062320844488\n",
      "Episode  252 Reward 94.45516498854217 R 11.730335453918391\n",
      "Episode  253 Reward 92.80515374227569 R 12.04952765190405\n",
      "Episode  254 Reward 91.20990578146214 R 12.359960507314081\n",
      "Episode  255 Reward 93.68463368358063 R 12.677635011908873\n",
      "Episode  256 Reward 78.36025695367306 R 12.933209416351534\n",
      "Episode  257 Reward 92.59682505436098 R 13.241983120374826\n",
      "Episode  258 Reward 92.37095940659918 R 13.54750040333322\n",
      "Episode  259 Reward 93.07040000140375 R 13.853357709479647\n",
      "Episode  260 Reward 94.1742051433868 R 14.161100419954387\n",
      "Episode  261 Reward 87.67940144041702 R 14.441704622322565\n",
      "Episode  262 Reward 92.07045604852048 R 14.736870977555258\n",
      "Episode  263 Reward 93.48150895647856 R 15.035146121414815\n",
      "Episode  264 Reward 92.71242100292261 R 15.328267913420506\n",
      "Episode  265 Reward 92.67858281108745 R 15.619058570930534\n",
      "Episode  266 Reward 92.70632132261248 R 15.907774910824475\n",
      "Episode  267 Reward 93.75983402335169 R 16.19826766870704\n",
      "Episode  268 Reward 92.9201695335793 R 16.48347919980322\n",
      "Episode  269 Reward 79.07154758991007 R 16.715286860507316\n",
      "Episode  270 Reward 94.65146693453222 R 17.002874240854272\n",
      "Episode  271 Reward 93.53256354383682 R 17.284233392703474\n",
      "Episode  272 Reward 94.12401699678885 R 17.565697801509646\n",
      "Episode  273 Reward 92.48419550911996 R 17.83912297562501\n",
      "Episode  274 Reward 93.87285909531379 R 18.115609288787518\n",
      "Episode  275 Reward 92.91352817605225 R 18.386616241277604\n",
      "Episode  276 Reward 93.33645587071011 R 18.657193279651008\n",
      "Episode  277 Reward 92.5869316347665 R 18.923127590280917\n",
      "Episode  278 Reward 93.37875109088127 R 19.18999362433325\n",
      "Episode  279 Reward 92.89683668744034 R 19.453232349558633\n",
      "Episode  280 Reward 76.55443285565055 R 19.656439468797394\n",
      "Episode  281 Reward 94.60534274592584 R 19.92221572155317\n",
      "Episode  282 Reward 92.87824072290852 R 20.180010862900712\n",
      "Episode  283 Reward 94.38611567228611 R 20.44129996434221\n",
      "Episode  284 Reward 89.48565582942967 R 20.683560862114447\n",
      "Episode  285 Reward 95.0560799179577 R 20.943604635036976\n",
      "Episode  286 Reward 93.9988339603018 R 21.198152472407234\n",
      "Episode  287 Reward 93.69884917874545 R 21.449891002637575\n",
      "Episode  288 Reward 91.92502456412487 R 21.69374959627594\n",
      "Episode  289 Reward 93.01497384804219 R 21.939684852316514\n",
      "Episode  290 Reward 88.73012893023974 R 22.169205278701128\n",
      "Episode  291 Reward 92.94913004594994 R 22.411602281328694\n",
      "Episode  292 Reward 92.94726423287706 R 22.6523383289449\n",
      "Episode  293 Reward 92.90623595620367 R 22.891297164411768\n",
      "Episode  294 Reward 91.82740369580628 R 23.124978881467342\n",
      "Episode  295 Reward 79.80677110808962 R 23.3164714227735\n",
      "Episode  296 Reward 92.46772154356829 R 23.54930391476271\n",
      "Episode  297 Reward 93.05712065804812 R 23.78255162195494\n",
      "Episode  298 Reward 92.64932419896758 R 24.01287527605866\n",
      "Episode  299 Reward 86.46284075371535 R 24.22104182765085\n",
      "Episode  300 Reward 94.58096568513406 R 24.4547957275096\n",
      "Episode  301 Reward 93.48321100213974 R 24.683366639015\n",
      "Episode  302 Reward 92.49629810590552 R 24.90717169336117\n",
      "Episode  303 Reward 92.93669536941262 R 25.13095302124292\n",
      "Episode  304 Reward 93.23970635278974 R 25.354260409215204\n",
      "Episode  305 Reward 70.56630361686335 R 25.502012184403597\n",
      "Episode  306 Reward 92.70234098510103 R 25.72090576355896\n",
      "Episode  307 Reward 93.82015579206025 R 25.94200722469046\n",
      "Episode  308 Reward 94.9588048564066 R 26.165362556831933\n",
      "Episode  309 Reward 93.61120946400975 R 26.382929804919605\n",
      "Episode  310 Reward 94.67190967591229 R 26.602508518331156\n",
      "Episode  311 Reward 93.02038181070053 R 26.815386317345162\n",
      "Episode  312 Reward 93.48230607910489 R 27.028379671216594\n",
      "Episode  313 Reward 93.1802131422171 R 27.23905430010513\n",
      "Episode  314 Reward 92.94570730212791 R 27.447646849317902\n",
      "Episode  315 Reward 90.54488727148784 R 27.647321660780463\n",
      "Episode  316 Reward 93.67950787135499 R 27.855625087312244\n",
      "Episode  317 Reward 93.93365580344972 R 28.063417636734062\n",
      "Episode  318 Reward 93.72450386718819 R 28.269251762848338\n",
      "Episode  319 Reward 93.08089365805596 R 28.471788143770862\n",
      "Episode  320 Reward 94.31173747107853 R 28.67689702017992\n",
      "Episode  321 Reward 93.59694752961767 R 28.878512083873822\n",
      "Episode  322 Reward 94.11083104488685 R 29.080469727715972\n",
      "Episode  323 Reward 93.91845535655769 R 29.28058696731116\n",
      "Episode  324 Reward 86.85272863000071 R 29.457732018580977\n",
      "Episode  325 Reward 93.64755732954514 R 29.654633323215833\n",
      "Episode  326 Reward 85.36733258866893 R 29.82500855032731\n",
      "Episode  327 Reward 93.52523742810911 R 30.019216565198597\n",
      "Episode  328 Reward 93.05997798625539 R 30.210829821797553\n",
      "Episode  329 Reward 93.84827239488848 R 30.403670556867528\n",
      "Episode  330 Reward 92.93963822030327 R 30.592600972769148\n",
      "Episode  331 Reward 93.90586068245808 R 30.78330356225616\n",
      "Episode  332 Reward 92.87126964390899 R 30.969753910849715\n",
      "Episode  333 Reward 89.76171590559363 R 31.14577774915733\n",
      "Episode  334 Reward 93.3987054491983 R 31.331607384082826\n",
      "Episode  335 Reward 93.93019448875661 R 31.51791270284674\n",
      "Episode  336 Reward 94.1764148915897 R 31.70384297640384\n",
      "Episode  337 Reward 93.37215486640046 R 31.88629360329732\n",
      "Episode  338 Reward 92.90228682225732 R 32.06628178388422\n",
      "Episode  339 Reward 93.69793253965375 R 32.2475513449306\n",
      "Episode  340 Reward 92.86393310133874 R 32.425311995242645\n",
      "Episode  341 Reward 94.08377562061659 R 32.605599900579996\n",
      "Episode  342 Reward 94.80446719603665 R 32.78693770610611\n",
      "Episode  343 Reward 93.79534404232308 R 32.96428772452534\n",
      "Episode  344 Reward 94.01398692748079 R 33.14124337438898\n",
      "Episode  345 Reward 93.1336467641491 R 33.314631823492334\n",
      "Episode  346 Reward 93.71628450547539 R 33.488699986840984\n",
      "Episode  347 Reward 93.46138205829507 R 33.66103528014976\n",
      "Episode  348 Reward 93.86439130017831 R 33.83353773292921\n",
      "Episode  349 Reward 93.34250713153871 R 34.00356335978238\n",
      "Episode  350 Reward 93.77944814879224 R 34.17386502584794\n",
      "Episode  351 Reward 93.55499064852788 R 34.34256140545783\n",
      "Episode  352 Reward 93.8163580353706 R 34.51104241574087\n",
      "Episode  353 Reward 93.27399182859325 R 34.67703944798056\n",
      "Episode  354 Reward 95.04519939147772 R 34.847090602750974\n",
      "Episode  355 Reward 94.11286505350408 R 35.01356749727557\n",
      "Episode  356 Reward 93.74627308997279 R 35.17808487988816\n",
      "Episode  357 Reward 93.6031822743875 R 35.341283475962186\n",
      "Episode  358 Reward 93.20222341054333 R 35.5024560105989\n",
      "Episode  359 Reward 93.78619155341227 R 35.664355275995604\n",
      "Episode  360 Reward 95.0906648076494 R 35.82897109187276\n",
      "Episode  361 Reward 94.2682495712643 R 35.99040556281031\n",
      "Episode  362 Reward 94.0240728919931 R 36.15027792459869\n",
      "Episode  363 Reward 93.94128899506883 R 36.30904443852855\n",
      "Episode  364 Reward 94.3636264962789 R 36.46809808800184\n",
      "Episode  365 Reward 93.52927689201579 R 36.6240029481221\n",
      "Episode  366 Reward 94.02549879739078 R 36.78041029376043\n",
      "Episode  367 Reward 89.99781281100687 R 36.92502280060078\n",
      "Episode  368 Reward 93.86110470701806 R 37.079321125550415\n",
      "Episode  369 Reward 93.64554299026517 R 37.23220280626586\n",
      "Episode  370 Reward 93.9828042343574 R 37.38516938693457\n",
      "Episode  371 Reward 89.67407690075201 R 37.52573096627279\n",
      "Episode  372 Reward 93.50000181742963 R 37.67579603557884\n",
      "Episode  373 Reward 93.22551812500583 R 37.82432470426715\n",
      "Episode  374 Reward 93.76222353875013 R 37.973492434492435\n",
      "Episode  375 Reward 94.34373329994328 R 38.123413287858\n",
      "Episode  376 Reward 95.09235325977814 R 38.27452453446787\n",
      "Episode  377 Reward 93.52203469162069 R 38.42068196874605\n",
      "Episode  378 Reward 93.31197380099722 R 38.56551387331663\n",
      "Episode  379 Reward 94.09404133995183 R 38.7116415771762\n",
      "Episode  380 Reward 93.37727282919836 R 38.85512092429437\n",
      "Episode  381 Reward 94.03172919452022 R 38.99956230720072\n",
      "Episode  382 Reward 90.78179907336464 R 39.134763969775555\n",
      "Episode  383 Reward 92.89983588623552 R 39.27477717789134\n",
      "Episode  384 Reward 93.95169313268352 R 39.416795141410276\n",
      "Episode  385 Reward 93.83866583388128 R 39.557784443722376\n",
      "Episode  386 Reward 89.8926745798035 R 39.687848759319486\n",
      "Episode  387 Reward 89.44775742468633 R 39.81609594660136\n",
      "Episode  388 Reward 93.96677123250399 R 39.95530076738774\n",
      "Episode  389 Reward 94.09890098993486 R 40.09413051154812\n",
      "Episode  390 Reward 90.43721370862549 R 40.22288520003169\n",
      "Episode  391 Reward 93.94269298607755 R 40.359925526016504\n",
      "Episode  392 Reward 94.56523802057696 R 40.49785252981946\n",
      "Episode  393 Reward 94.70453891446687 R 40.63543295211552\n",
      "Episode  394 Reward 93.71895599657569 R 40.76982161805086\n",
      "Episode  395 Reward 94.38502908324973 R 40.905213556094296\n",
      "Episode  396 Reward 93.28074447452691 R 41.03714184556138\n",
      "Episode  397 Reward 94.36562240596275 R 41.17113300274832\n",
      "Episode  398 Reward 94.63609395769811 R 41.30513039862539\n",
      "Episode  399 Reward 94.38163054478426 R 41.437821648990784\n"
     ]
    }
   ],
   "source": [
    "TAU = 1e-3\n",
    "\n",
    "pol1 = nn.Sequential(nn.Linear(2,20),nn.ReLU(),nn.Linear(20,15),nn.ReLU(),nn.Linear(15,1),nn.Tanh()).to(device)\n",
    "pol2 = nn.Sequential(nn.Linear(2,20),nn.ReLU(),nn.Linear(20,15),nn.ReLU(),nn.Linear(15,1),nn.Tanh()).to(device)\n",
    "copy_params(pol1,pol2)\n",
    "# pol1 is the local actor, pol2 is the target actor\n",
    "\n",
    "\n",
    "Q1 = Q_net(2,1).to(device)\n",
    "Q2 = Q_net(2,1).to(device)\n",
    "copy_params(Q1,Q2)\n",
    "# Q1 is the local critic, Q2 is the target critic\n",
    "\n",
    "opt1 = torch.optim.Adam(Q1.parameters(),lr = 0.01)\n",
    "opt2 = torch.optim.Adam(pol1.parameters(),lr = 0.001)\n",
    "R = []\n",
    "D = []\n",
    "for episode in range(0,400):\n",
    "  state = env.reset()\n",
    "  done = False\n",
    "  r = 0\n",
    "  noise.reset()\n",
    "  while(done!=True):\n",
    "    if(len(D)>=50000):  #### maximum buffer size is 50000\n",
    "      D = []\n",
    "    for k in range(0,128):    ### batch size is 128\n",
    "      pol1.zero_grad()\n",
    "      Q1.zero_grad()\n",
    "      action = pol1(torch.Tensor(state).to(device)) \n",
    "      N = noise.sample()[0]\n",
    "      # a = [np.clip(action[0].item()+N[0],-1,1),np.clip(action[1].item()+N[1],-1,1)]\n",
    "      a = [np.clip(action.item()+N,-1,1)]\n",
    "      state1,reward,done,_ = env.step(a[0])\n",
    "      D.append([state,action,reward,state1,done])\n",
    "      if(len(D)>=64):\n",
    "        loss = update_params(D)\n",
    "      state = copy.deepcopy(state1)\n",
    "      r+=reward\n",
    "      if(done==True):\n",
    "        break;\n",
    "  R.append(r)\n",
    "  print(\"Episode \",episode,\"Reward\",r,\"R\",sum(R)/len(R))  ### R that is being printed in the average reward so far"
   ]
  },
  {
   "cell_type": "code",
   "execution_count": 0,
   "metadata": {
    "colab": {},
    "colab_type": "code",
    "id": "4AWbuKPcwO7O"
   },
   "outputs": [],
   "source": [
    "###### plotting the episodic reward ######"
   ]
  },
  {
   "cell_type": "code",
   "execution_count": 5,
   "metadata": {
    "colab": {
     "base_uri": "https://localhost:8080/",
     "height": 279
    },
    "colab_type": "code",
    "id": "aDErlTTxPxFf",
    "outputId": "5dae4660-3cae-4857-aa00-ee51bcb3b111"
   },
   "outputs": [
    {
     "data": {
      "image/png": "[encoded data removed]",
      "text/plain": [
       "<Figure size 432x288 with 1 Axes>"
      ]
     },
     "metadata": {
      "needs_background": "light",
      "tags": []
     },
     "output_type": "display_data"
    }
   ],
   "source": [
    "plt.plot(R)\n",
    "plt.xlabel(\"Episodes\")\n",
    "plt.ylabel(\"Total episodic Reward\")\n",
    "plt.show()"
   ]
  }
 ],
 "metadata": {
  "accelerator": "GPU",
  "colab": {
   "collapsed_sections": [],
   "name": "Q1.ipynb",
   "provenance": []
  },
  "kernelspec": {
   "display_name": "Python 3",
   "language": "python",
   "name": "python3"
  },
  "language_info": {
   "codemirror_mode": {
    "name": "ipython",
    "version": 3
   },
   "file_extension": ".py",
   "mimetype": "text/x-python",
   "name": "python",
   "nbconvert_exporter": "python",
   "pygments_lexer": "ipython3",
   "version": "3.7.4"
  }
 },
 "nbformat": 4,
 "nbformat_minor": 1
}
