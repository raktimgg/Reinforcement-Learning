{
 "cells": [
  {
   "cell_type": "code",
   "execution_count": 6,
   "metadata": {
    "colab": {
     "base_uri": "https://localhost:8080/",
     "height": 360
    },
    "colab_type": "code",
    "id": "dRJtW91ryAjW",
    "outputId": "5637ee9c-10dc-4286-f018-30191b85d1e7"
   },
   "outputs": [
    {
     "name": "stdout",
     "output_type": "stream",
     "text": [
      "Requirement already satisfied: gym in /usr/local/lib/python3.6/dist-packages (0.17.1)\n",
      "Requirement already satisfied: pyglet<=1.5.0,>=1.4.0 in /usr/local/lib/python3.6/dist-packages (from gym) (1.5.0)\n",
      "Requirement already satisfied: scipy in /usr/local/lib/python3.6/dist-packages (from gym) (1.4.1)\n",
      "Requirement already satisfied: cloudpickle<1.4.0,>=1.2.0 in /usr/local/lib/python3.6/dist-packages (from gym) (1.3.0)\n",
      "Requirement already satisfied: numpy>=1.10.4 in /usr/local/lib/python3.6/dist-packages (from gym) (1.18.3)\n",
      "Requirement already satisfied: six in /usr/local/lib/python3.6/dist-packages (from gym) (1.12.0)\n",
      "Requirement already satisfied: future in /usr/local/lib/python3.6/dist-packages (from pyglet<=1.5.0,>=1.4.0->gym) (0.16.0)\n",
      "Requirement already satisfied: gym[box2d] in /usr/local/lib/python3.6/dist-packages (0.17.1)\n",
      "Requirement already satisfied: numpy>=1.10.4 in /usr/local/lib/python3.6/dist-packages (from gym[box2d]) (1.18.3)\n",
      "Requirement already satisfied: cloudpickle<1.4.0,>=1.2.0 in /usr/local/lib/python3.6/dist-packages (from gym[box2d]) (1.3.0)\n",
      "Requirement already satisfied: scipy in /usr/local/lib/python3.6/dist-packages (from gym[box2d]) (1.4.1)\n",
      "Requirement already satisfied: six in /usr/local/lib/python3.6/dist-packages (from gym[box2d]) (1.12.0)\n",
      "Requirement already satisfied: pyglet<=1.5.0,>=1.4.0 in /usr/local/lib/python3.6/dist-packages (from gym[box2d]) (1.5.0)\n",
      "Collecting box2d-py~=2.3.5; extra == \"box2d\"\n",
      "\u001b[?25l  Downloading https://files.pythonhosted.org/packages/06/bd/6cdc3fd994b0649dcf5d9bad85bd9e26172308bbe9a421bfc6fdbf5081a6/box2d_py-2.3.8-cp36-cp36m-manylinux1_x86_64.whl (448kB)\n",
      "\u001b[K     |████████████████████████████████| 450kB 2.8MB/s \n",
      "\u001b[?25hRequirement already satisfied: future in /usr/local/lib/python3.6/dist-packages (from pyglet<=1.5.0,>=1.4.0->gym[box2d]) (0.16.0)\n",
      "Installing collected packages: box2d-py\n",
      "Successfully installed box2d-py-2.3.8\n"
     ]
    }
   ],
   "source": [
    "##### for running it on google colab, these commands are needed to be run first to install Lunar Lander environment\n",
    "!pip install gym\n",
    "!pip install \"gym[box2d]\""
   ]
  },
  {
   "cell_type": "code",
   "execution_count": 0,
   "metadata": {
    "colab": {},
    "colab_type": "code",
    "id": "suywAaBbePn1"
   },
   "outputs": [],
   "source": [
    "import numpy as np\n",
    "import matplotlib.pyplot as plt\n",
    "import torch\n",
    "import torch.nn as nn\n",
    "import torch.nn.functional as F\n",
    "import gym\n",
    "import random\n",
    "import copy"
   ]
  },
  {
   "cell_type": "code",
   "execution_count": null,
   "metadata": {},
   "outputs": [],
   "source": [
    "##### deifning the ornstein uhlenbeck noise #####"
   ]
  },
  {
   "cell_type": "code",
   "execution_count": 0,
   "metadata": {
    "colab": {},
    "colab_type": "code",
    "id": "fSRKmTE2uVga"
   },
   "outputs": [],
   "source": [
    "class OU:\n",
    "    def __init__(self, size, seed, mu=0., theta=0.15, sigma=0.2):\n",
    "        \"\"\"Initialize parameters and noise process.\"\"\"\n",
    "        self.mu = mu * np.ones(size)\n",
    "        self.theta = theta\n",
    "        self.sigma = sigma\n",
    "        self.seed = random.seed(seed)\n",
    "        self.size = size\n",
    "        self.reset()\n",
    "\n",
    "    def reset(self):\n",
    "        \"\"\"Reset the internal state (= noise) to mean (mu).\"\"\"\n",
    "        self.state = copy.copy(self.mu)\n",
    "\n",
    "    def sample(self):\n",
    "        \"\"\"Update internal state and return it as a noise sample.\"\"\"\n",
    "        x = self.state\n",
    "        dx = self.theta * (self.mu - x) + self.sigma * np.random.standard_normal(self.size)\n",
    "        self.state = x + dx\n",
    "        return self.state"
   ]
  },
  {
   "cell_type": "code",
   "execution_count": 0,
   "metadata": {
    "colab": {},
    "colab_type": "code",
    "id": "_TRztUgTzVFr"
   },
   "outputs": [],
   "source": [
    "noise = OU((1,2),0)"
   ]
  },
  {
   "cell_type": "code",
   "execution_count": 10,
   "metadata": {
    "colab": {
     "base_uri": "https://localhost:8080/",
     "height": 34
    },
    "colab_type": "code",
    "id": "yg65Q0b9dxdT",
    "outputId": "8e7c0f58-59f0-443a-d03f-ac81c1f04701"
   },
   "outputs": [
    {
     "data": {
      "text/plain": [
       "array([-0.07381944, -0.01366573])"
      ]
     },
     "execution_count": 10,
     "metadata": {
      "tags": []
     },
     "output_type": "execute_result"
    }
   ],
   "source": [
    "noise.sample()[0]"
   ]
  },
  {
   "cell_type": "code",
   "execution_count": 0,
   "metadata": {
    "colab": {},
    "colab_type": "code",
    "id": "3a-EctQP3XaA"
   },
   "outputs": [],
   "source": []
  },
  {
   "cell_type": "code",
   "execution_count": 11,
   "metadata": {
    "colab": {
     "base_uri": "https://localhost:8080/",
     "height": 51
    },
    "colab_type": "code",
    "id": "tLKYSPmReydm",
    "outputId": "eb3c0b95-cd0b-48e4-baa8-da70f6912b03"
   },
   "outputs": [
    {
     "name": "stderr",
     "output_type": "stream",
     "text": [
      "/usr/local/lib/python3.6/dist-packages/gym/logger.py:30: UserWarning: \u001b[33mWARN: Box bound precision lowered by casting to float32\u001b[0m\n",
      "  warnings.warn(colorize('%s: %s'%('WARN', msg % args), 'yellow'))\n"
     ]
    }
   ],
   "source": [
    "# env = gym.make('MountainCarContinuous-v0')\n",
    "env = gym.make('LunarLanderContinuous-v2')"
   ]
  },
  {
   "cell_type": "code",
   "execution_count": 0,
   "metadata": {
    "colab": {},
    "colab_type": "code",
    "id": "Z8iU45CEe_30"
   },
   "outputs": [],
   "source": [
    "state = env.reset()"
   ]
  },
  {
   "cell_type": "code",
   "execution_count": 0,
   "metadata": {
    "colab": {},
    "colab_type": "code",
    "id": "I4-_lqhjlu0l"
   },
   "outputs": [],
   "source": [
    "device = 'cuda:0'"
   ]
  },
  {
   "cell_type": "code",
   "execution_count": 14,
   "metadata": {
    "colab": {
     "base_uri": "https://localhost:8080/",
     "height": 34
    },
    "colab_type": "code",
    "id": "7BzaHXfWlz1V",
    "outputId": "750f18e0-b3b6-44d9-d3e6-3412dd3dee9f"
   },
   "outputs": [
    {
     "data": {
      "text/plain": [
       "<torch.autograd.anomaly_mode.set_detect_anomaly at 0x7fa9fe6e8c18>"
      ]
     },
     "execution_count": 14,
     "metadata": {
      "tags": []
     },
     "output_type": "execute_result"
    }
   ],
   "source": [
    "torch.autograd.set_detect_anomaly(True)"
   ]
  },
  {
   "cell_type": "code",
   "execution_count": 0,
   "metadata": {
    "colab": {},
    "colab_type": "code",
    "id": "-wymjckzfjHN"
   },
   "outputs": [],
   "source": []
  },
  {
   "cell_type": "code",
   "execution_count": 0,
   "metadata": {
    "colab": {},
    "colab_type": "code",
    "id": "3At20ktUsTWz"
   },
   "outputs": [],
   "source": [
    "##### function used to copy parameters of a model to another ####"
   ]
  },
  {
   "cell_type": "code",
   "execution_count": 0,
   "metadata": {
    "colab": {},
    "colab_type": "code",
    "id": "HrD4yQ0mzbSp"
   },
   "outputs": [],
   "source": [
    "def copy_params(model1, model2):\n",
    "  for a,b in zip(model1.parameters(),model2.parameters()):\n",
    "    b.data = copy.deepcopy(a.data)"
   ]
  },
  {
   "cell_type": "code",
   "execution_count": null,
   "metadata": {},
   "outputs": [],
   "source": [
    "#### function used to soft update the target networks ####"
   ]
  },
  {
   "cell_type": "code",
   "execution_count": 0,
   "metadata": {
    "colab": {},
    "colab_type": "code",
    "id": "eED_ozv-SMAD"
   },
   "outputs": [],
   "source": [
    "def soft_update(local_model, target_model, tau):\n",
    "  for target_param, local_param in zip(target_model.parameters(), local_model.parameters()):\n",
    "    target_param.data = copy.deepcopy(tau*local_param.data + (1.0-tau)*target_param.data)"
   ]
  },
  {
   "cell_type": "code",
   "execution_count": null,
   "metadata": {},
   "outputs": [],
   "source": [
    "###### function to update the parameters of the networks ####"
   ]
  },
  {
   "cell_type": "code",
   "execution_count": 0,
   "metadata": {
    "colab": {},
    "colab_type": "code",
    "id": "JLInAUXwplWq"
   },
   "outputs": [],
   "source": [
    "def update_params(D):\n",
    "  pol1.zero_grad()\n",
    "  Q1.zero_grad()\n",
    "  pol2.zero_grad()\n",
    "  Q2.zero_grad()\n",
    "  ind = np.random.choice(range(len(D)), min(64,len(D)), replace=False)\n",
    "  t = 0\n",
    "  d = []\n",
    "  for i in ind:\n",
    "    s1 = torch.Tensor(D[i][0]).to(device)\n",
    "    a1 = D[i][1].detach()\n",
    "    r = D[i][2]\n",
    "    s2 = torch.Tensor(D[i][3]).to(device)\n",
    "    d.append(D[i][4])\n",
    "    if(t==0):\n",
    "      state2 = s2.unsqueeze(dim=0)\n",
    "      state1 = s1.unsqueeze(dim=0)\n",
    "      act1 = a1.unsqueeze(dim=0)\n",
    "      rew = torch.Tensor([r])\n",
    "      t=1\n",
    "    else:\n",
    "      state2 = torch.cat([state2,s2.unsqueeze(dim=0)],dim = 0)\n",
    "      state1 = torch.cat([state1,s1.unsqueeze(dim=0)],dim = 0)\n",
    "      act1 = torch.cat([act1,a1.unsqueeze(dim=0)],dim = 0)\n",
    "      rew = torch.cat([rew,torch.Tensor([r])])\n",
    "  \n",
    "\n",
    "\n",
    "  state2 = state2.to(device)\n",
    "  act1 = act1.to(device)\n",
    "  rew = rew.to(device)\n",
    "  done = torch.Tensor(d).to(device)\n",
    "\n",
    "  act2 = pol2(state2)\n",
    "  # print(\"s1\",state1.shape)\n",
    "  # print(\"act1\",act1.shape)\n",
    "  # print(\"rew\",rew.shape)\n",
    "  # print(\"s2\",state2.shape)\n",
    "  # print(\"act2\",act2.shape)\n",
    "  # print(\"done\",done.shape)\n",
    "  y = rew.reshape([rew.shape[0],1]) + 0.99*Q2(state2,act2)*(1-done.reshape([done.shape[0],1]))\n",
    "  q = Q1(state1,act1)\n",
    "  loss1 = F.mse_loss(q,y)\n",
    "  # print(\"loss1\",loss1)\n",
    "  opt1.zero_grad()\n",
    "  loss1.backward()\n",
    "  opt1.step()\n",
    "  \n",
    "  act3 = pol1(state1)\n",
    "  loss2 = -1*Q1(state1,act3).mean()\n",
    "  # print(\"loss2\",loss2)\n",
    "  opt2.zero_grad()\n",
    "  loss2.backward()\n",
    "  opt2.step()\n",
    "\n",
    "  soft_update(Q1, Q2, TAU)\n",
    "  soft_update(pol1, pol2, TAU) \n",
    "\n",
    "  return loss1"
   ]
  },
  {
   "cell_type": "code",
   "execution_count": null,
   "metadata": {},
   "outputs": [],
   "source": []
  },
  {
   "cell_type": "code",
   "execution_count": 0,
   "metadata": {
    "colab": {},
    "colab_type": "code",
    "id": "v4sMel3MitOb"
   },
   "outputs": [],
   "source": [
    "class Q_net(nn.Module):\n",
    "  def __init__(self, state_size, action_size):\n",
    "    super(Q_net, self).__init__()\n",
    "    self.fcs1 = nn.Linear(state_size, 40)\n",
    "    self.fc2 = nn.Linear(40+action_size, 30)\n",
    "    self.fc3 = nn.Linear(30, 1)\n",
    "\n",
    "  def forward(self, state, action):\n",
    "    xs = F.relu(self.fcs1(state))\n",
    "    x = torch.cat((xs, action), dim=1)\n",
    "    x = F.relu(self.fc2(x))\n",
    "    return self.fc3(x)"
   ]
  },
  {
   "cell_type": "code",
   "execution_count": null,
   "metadata": {},
   "outputs": [],
   "source": []
  },
  {
   "cell_type": "code",
   "execution_count": 33,
   "metadata": {
    "colab": {
     "base_uri": "https://localhost:8080/",
     "height": 1000
    },
    "colab_type": "code",
    "id": "UM8MhMLehoM3",
    "outputId": "42fdb75f-8581-43da-e544-1b0e8263a98e"
   },
   "outputs": [
    {
     "name": "stdout",
     "output_type": "stream",
     "text": [
      "Episode  0 Reward -13.528567609811574 R -13.528567609811574\n",
      "Episode  1 Reward -230.15894009575942 R -121.8437538527855\n",
      "Episode  2 Reward -292.89639826964697 R -178.8613019917393\n",
      "Episode  3 Reward -405.2832545133495 R -235.46679012214184\n",
      "Episode  4 Reward -456.33863804661456 R -279.64115970703637\n",
      "Episode  5 Reward -913.7942707624983 R -385.3333448829467\n",
      "Episode  6 Reward -733.4643952309258 R -435.0663520755151\n",
      "Episode  7 Reward -588.4947977934474 R -454.24490779025666\n",
      "Episode  8 Reward -332.11898119105956 R -440.6753603903459\n",
      "Episode  9 Reward -551.0847658538502 R -451.71630093669626\n",
      "Episode  10 Reward -1041.015111219152 R -505.2889200532832\n",
      "Episode  11 Reward -1023.0472013128923 R -548.4354434915839\n",
      "Episode  12 Reward -933.4795752934454 R -578.0542228609579\n",
      "Episode  13 Reward -544.9085648072485 R -575.6866758571215\n",
      "Episode  14 Reward -503.1127806487336 R -570.8484161765623\n",
      "Episode  15 Reward -596.9923253180559 R -572.4824104979057\n",
      "Episode  16 Reward -531.1895264899216 R -570.0534173209654\n",
      "Episode  17 Reward -546.3289627332706 R -568.7353920660935\n",
      "Episode  18 Reward -432.74926531179904 R -561.578227500078\n",
      "Episode  19 Reward -398.4266092252946 R -553.4206465863388\n",
      "Episode  20 Reward -433.6489077370808 R -547.7172304506598\n",
      "Episode  21 Reward -50.36150943120334 R -525.1101522225027\n",
      "Episode  22 Reward -48.64014117670058 R -504.3940647857287\n",
      "Episode  23 Reward -1480.3109060167853 R -545.0572665036893\n",
      "Episode  24 Reward -717.3891599826454 R -551.9505422428476\n",
      "Episode  25 Reward -721.6550180197104 R -558.4776374650346\n",
      "Episode  26 Reward -537.5163604462551 R -557.7012938717465\n",
      "Episode  27 Reward -754.5862497803695 R -564.7328994399116\n",
      "Episode  28 Reward -338.7223384695495 R -556.939431820244\n",
      "Episode  29 Reward -228.83167509639512 R -546.0025065961157\n",
      "Episode  30 Reward -511.75447354891134 R -544.8977313365284\n",
      "Episode  31 Reward -713.9046587177017 R -550.17919781719\n",
      "Episode  32 Reward -1252.5150356686527 R -571.4621019945071\n",
      "Episode  33 Reward -609.897138031286 R -572.5925442308829\n",
      "Episode  34 Reward -1664.735523249104 R -603.7966293456892\n",
      "Episode  35 Reward -689.9338363667543 R -606.1893295407189\n",
      "Episode  36 Reward -540.3206474819265 R -604.4090948904812\n",
      "Episode  37 Reward -685.9404565772975 R -606.5546570401343\n",
      "Episode  38 Reward -587.2571251244545 R -606.0598485294759\n",
      "Episode  39 Reward -1063.212248642955 R -617.4886585323128\n",
      "Episode  40 Reward -1458.9548216280054 R -638.0122234858663\n",
      "Episode  41 Reward -868.2034085718088 R -643.4929659879125\n",
      "Episode  42 Reward -667.3895569332778 R -644.0487006610606\n",
      "Episode  43 Reward -717.1187211947488 R -645.7093829459171\n",
      "Episode  44 Reward -504.8180892445421 R -642.5784653081088\n",
      "Episode  45 Reward -706.0740285681551 R -643.958803639849\n",
      "Episode  46 Reward -503.31199458028175 R -640.9663183407092\n",
      "Episode  47 Reward -349.49699659087844 R -634.8940408042544\n",
      "Episode  48 Reward -624.0419286589267 R -634.6725691278192\n",
      "Episode  49 Reward -504.41415532355666 R -632.067400851734\n",
      "Episode  50 Reward -522.2353556820769 R -629.9138313386034\n",
      "Episode  51 Reward -365.4375673602061 R -624.8277493390189\n",
      "Episode  52 Reward -94.8585128474367 R -614.8283297825739\n",
      "Episode  53 Reward -597.4821987724408 R -614.5071051342381\n",
      "Episode  54 Reward -708.8294352174028 R -616.2220565902957\n",
      "Episode  55 Reward -333.580710369155 R -611.1748896934896\n",
      "Episode  56 Reward -1181.3656570450462 R -621.178236489131\n",
      "Episode  57 Reward -95.65087894983073 R -612.1174199798327\n",
      "Episode  58 Reward -569.6191187516273 R -611.3971097895242\n",
      "Episode  59 Reward -717.5778457731052 R -613.1667887225839\n",
      "Episode  60 Reward -835.4915525096527 R -616.8114569813883\n",
      "Episode  61 Reward -337.5892298709696 R -612.3078726731558\n",
      "Episode  62 Reward -628.9653055947339 R -612.5722763703237\n",
      "Episode  63 Reward -971.8349649980846 R -618.1857558801325\n",
      "Episode  64 Reward -781.1751682961115 R -620.6932853019168\n",
      "Episode  65 Reward -652.9288465468984 R -621.1817028965378\n",
      "Episode  66 Reward -162.66557998512306 R -614.3381786739793\n",
      "Episode  67 Reward -149.5493226090925 R -607.503048437731\n",
      "Episode  68 Reward -162.38004017430535 R -601.0519903469567\n",
      "Episode  69 Reward -113.30240199238331 R -594.0841390847485\n",
      "Episode  70 Reward -115.62056061811134 R -587.3452154443734\n",
      "Episode  71 Reward -130.26587040982264 R -580.9968912077824\n",
      "Episode  72 Reward -108.51635094633572 R -574.5245550398173\n",
      "Episode  73 Reward -163.99856878423873 R -568.9769065769042\n",
      "Episode  74 Reward -51.167420512707 R -562.0727800960482\n",
      "Episode  75 Reward -148.02859978066846 R -556.6248303550564\n",
      "Episode  76 Reward -141.89169596755897 R -551.2386857526214\n",
      "Episode  77 Reward -27.18130175074984 R -544.5200013423411\n",
      "Episode  78 Reward -84.32744211273145 R -538.6947790736117\n",
      "Episode  79 Reward -80.17934575180794 R -532.9633361570892\n",
      "Episode  80 Reward -47.23586304357478 R -526.966700686552\n",
      "Episode  81 Reward -85.27196128678538 R -521.5801794743597\n",
      "Episode  82 Reward -113.39132143143475 R -516.6622414256499\n",
      "Episode  83 Reward -213.1368377925951 R -513.0488437633516\n",
      "Episode  84 Reward -54.173462109346204 R -507.6503098615398\n",
      "Episode  85 Reward -0.9048172860704806 R -501.75792041298786\n",
      "Episode  86 Reward 10.283041794253668 R -495.8723921117552\n",
      "Episode  87 Reward -48.08007118744644 R -490.7838430103426\n",
      "Episode  88 Reward -41.975705282055344 R -485.74105494597984\n",
      "Episode  89 Reward -187.74003611742728 R -482.4299325145515\n",
      "Episode  90 Reward -432.92840572228795 R -481.8859596926585\n",
      "Episode  91 Reward -16.632899536881837 R -476.82886121270445\n",
      "Episode  92 Reward -177.6441817142604 R -473.6118216482051\n",
      "Episode  93 Reward -79.82190021996496 R -469.42256716492585\n",
      "Episode  94 Reward -86.88661127131209 R -465.3958728923615\n",
      "Episode  95 Reward -12.711526630329445 R -460.68041095213204\n",
      "Episode  96 Reward -45.5327427676055 R -456.4005380842503\n",
      "Episode  97 Reward -11.121996844012813 R -451.85687950016626\n",
      "Episode  98 Reward -79.6911325236989 R -448.097629530707\n",
      "Episode  99 Reward -195.60448025778174 R -445.5726980379778\n",
      "Episode  100 Reward -97.11064120284185 R -442.1225786633724\n",
      "Episode  101 Reward -93.60042016159446 R -438.7056947564922\n",
      "Episode  102 Reward -86.0369392262954 R -435.2817262561991\n",
      "Episode  103 Reward -151.87827713541256 R -432.55669309157605\n",
      "Episode  104 Reward -24.280292914536574 R -428.66834642322334\n",
      "Episode  105 Reward -45.985998240099434 R -425.05813559130706\n",
      "Episode  106 Reward -79.21243786919197 R -421.82593280885743\n",
      "Episode  107 Reward -225.6018100183336 R -420.00904278301925\n",
      "Episode  108 Reward -132.5111634185297 R -417.3714475594918\n",
      "Episode  109 Reward -304.2049933204638 R -416.3426616118643\n",
      "Episode  110 Reward -209.3812112096986 R -414.4781440406736\n",
      "Episode  111 Reward -150.38013685792714 R -412.1201261193991\n",
      "Episode  112 Reward -362.444859876851 R -411.68052199335887\n",
      "Episode  113 Reward -306.64846875192575 R -410.7591881929954\n",
      "Episode  114 Reward -241.85321512794042 R -409.2904406011254\n",
      "Episode  115 Reward -319.28433483621234 R -408.51452589625546\n",
      "Episode  116 Reward -282.8169226185673 R -407.44018740670253\n",
      "Episode  117 Reward -29.287410278299433 R -404.23550285476693\n",
      "Episode  118 Reward 1.896404274912598 R -400.82262968560997\n",
      "Episode  119 Reward -18.857291234053093 R -397.63958519851366\n",
      "Episode  120 Reward -54.2305766760695 R -394.8014942189893\n",
      "Episode  121 Reward -41.65673496950919 R -391.9068650448133\n",
      "Episode  122 Reward -72.26666965882937 R -389.30816426931744\n",
      "Episode  123 Reward -23.98222043480648 R -386.3619873029101\n",
      "Episode  124 Reward -63.821430480240586 R -383.7816628483288\n",
      "Episode  125 Reward -326.35514286905635 R -383.3258968167472\n",
      "Episode  126 Reward -172.47239874090138 R -381.6656330523705\n",
      "Episode  127 Reward -328.49030516454997 R -381.2502008032469\n",
      "Episode  128 Reward -276.02507783392065 R -380.4345021755777\n",
      "Episode  129 Reward -343.1485347906669 R -380.1476870418476\n",
      "Episode  130 Reward -135.76963485221512 R -378.28220572742293\n",
      "Episode  131 Reward -60.72447288122086 R -375.8764653270729\n",
      "Episode  132 Reward -465.8873999039849 R -376.5532392712602\n",
      "Episode  133 Reward -422.4051170355856 R -376.8954174635313\n",
      "Episode  134 Reward -409.69445200424707 R -377.138373274944\n",
      "Episode  135 Reward -311.5333172741733 R -376.6559831572913\n",
      "Episode  136 Reward -447.0110399767133 R -377.16952371801705\n",
      "Episode  137 Reward -354.8468176549047 R -377.00776497842924\n",
      "Episode  138 Reward -368.0917437013594 R -376.9436209404647\n",
      "Episode  139 Reward -163.27226779960824 R -375.41739698945855\n",
      "Episode  140 Reward -153.0481817524034 R -373.84031035657165\n",
      "Episode  141 Reward -89.21928565849353 R -371.83593694320496\n",
      "Episode  142 Reward -99.05615713189525 R -369.92838603543356\n",
      "Episode  143 Reward -73.68688102715575 R -367.871153361765\n",
      "Episode  144 Reward -86.61893827129322 R -365.93148291286514\n",
      "Episode  145 Reward -292.8009053564641 R -365.4305885460405\n",
      "Episode  146 Reward -15.27680836347707 R -363.04859004139723\n",
      "Episode  147 Reward -396.8795094998615 R -363.2771773350355\n",
      "Episode  148 Reward -165.83513981582456 R -361.952062989269\n",
      "Episode  149 Reward -334.40819758414347 R -361.7684372199015\n",
      "Episode  150 Reward -50.31723416549952 R -359.7058464711968\n",
      "Episode  151 Reward -227.60621629516413 R -358.83676995688086\n",
      "Episode  152 Reward -256.47650753328753 R -358.16774863385086\n",
      "Episode  153 Reward -317.2250312660426 R -357.90188683276114\n",
      "Episode  154 Reward 9.082622399701194 R -355.534244837713\n",
      "Episode  155 Reward 51.44767261376939 R -352.9253863925112\n",
      "Episode  156 Reward 30.430603688132777 R -350.4836284939084\n",
      "Episode  157 Reward -48.500684912227584 R -348.5723440408598\n",
      "Episode  158 Reward -11.979270047179597 R -346.4554064685725\n",
      "Episode  159 Reward -304.93079449749905 R -346.1958776437533\n",
      "Episode  160 Reward -312.4539628417472 R -345.9863005331818\n",
      "Episode  161 Reward -20.578671677686497 R -343.97761146617256\n",
      "Episode  162 Reward -70.8656369019611 R -342.30207787988905\n",
      "Episode  163 Reward -151.81470564879578 R -341.1405695126263\n",
      "Episode  164 Reward -284.6376318353873 R -340.7981274660976\n",
      "Episode  165 Reward -863.0170227063509 R -343.9440244253762\n",
      "Episode  166 Reward -483.85472780304855 R -344.78181306835626\n",
      "Episode  167 Reward -435.2996181429293 R -345.32060952713346\n",
      "Episode  168 Reward -221.09884044513893 R -344.5855694733939\n",
      "Episode  169 Reward -101.9123888586465 R -343.1580801756601\n",
      "Episode  170 Reward -136.99844333727012 R -341.9524682643244\n",
      "Episode  171 Reward -251.4077563412513 R -341.4260455205856\n",
      "Episode  172 Reward -99.52450440603857 R -340.0277707164553\n",
      "Episode  173 Reward -130.15069540864692 R -338.82158062847935\n",
      "Episode  174 Reward -84.86355406687237 R -337.37039190527014\n",
      "Episode  175 Reward -127.61007569353477 R -336.17857192679435\n",
      "Episode  176 Reward -58.93002105430618 R -334.6121959331645\n",
      "Episode  177 Reward -92.19447975984477 R -333.2502986512919\n",
      "Episode  178 Reward -100.87796059149406 R -331.9521291649244\n",
      "Episode  179 Reward -117.32577640384541 R -330.7597605384739\n",
      "Episode  180 Reward -148.82250559314235 R -329.75458233435603\n",
      "Episode  181 Reward -189.88252276056397 R -328.98605453450006\n",
      "Episode  182 Reward -185.83078282821984 R -328.2037852902034\n",
      "Episode  183 Reward -145.99392630646966 R -327.2135143174657\n",
      "Episode  184 Reward -154.83612905273506 R -326.2817446673861\n",
      "Episode  185 Reward -189.5669410955183 R -325.54671884173086\n",
      "Episode  186 Reward -216.100807223793 R -324.9614465870895\n",
      "Episode  187 Reward -163.6917826598675 R -324.10362922577445\n",
      "Episode  188 Reward -242.64011429280453 R -323.67260533724027\n",
      "Episode  189 Reward -123.96979015004204 R -322.62153788888656\n",
      "Episode  190 Reward -152.80964247133028 R -321.7324703736114\n",
      "Episode  191 Reward -80.15444855801348 R -320.4742515099885\n",
      "Episode  192 Reward -223.1362467501632 R -319.9699095164143\n",
      "Episode  193 Reward -64.08782300058715 R -318.6509296890131\n",
      "Episode  194 Reward -131.8212776503654 R -317.6928289093277\n",
      "Episode  195 Reward -116.3906102526525 R -316.6657767733243\n",
      "Episode  196 Reward -63.661745465211744 R -315.38149235044045\n",
      "Episode  197 Reward -133.95199668536776 R -314.4651817662734\n",
      "Episode  198 Reward -176.75061398634477 R -313.7731487623542\n",
      "Episode  199 Reward -178.47704479107972 R -313.09666824249786\n",
      "Episode  200 Reward -64.7827982550116 R -311.86127585450043\n",
      "Episode  201 Reward -51.35676149212249 R -310.57164954577576\n",
      "Episode  202 Reward -11.39414712017186 R -309.09786874564963\n",
      "Episode  203 Reward -31.210328468776396 R -307.73567492076296\n",
      "Episode  204 Reward -594.7783696761921 R -309.13588318786265\n",
      "Episode  205 Reward -106.57091159190405 R -308.1525580830279\n",
      "Episode  206 Reward -0.9376105422047134 R -306.66842790167124\n",
      "Episode  207 Reward -52.28186384914746 R -305.4454155744956\n",
      "Episode  208 Reward -89.75439129258366 R -304.4134011042472\n",
      "Episode  209 Reward -104.48019613930266 R -303.4613382234618\n",
      "Episode  210 Reward -109.85264724002961 R -302.5437614889431\n",
      "Episode  211 Reward -65.83589768050234 R -301.42721496154485\n",
      "Episode  212 Reward -51.49702316941489 R -300.25383377942217\n",
      "Episode  213 Reward 33.78930382950849 R -298.69288453825897\n",
      "Episode  214 Reward -150.6331073966502 R -298.0042344120189\n",
      "Episode  215 Reward -27.245917913245712 R -296.75072368748755\n",
      "Episode  216 Reward -216.43339838149402 R -296.38059776441844\n",
      "Episode  217 Reward -63.462195313383425 R -295.3121647256522\n",
      "Episode  218 Reward 47.731462034802746 R -293.7457554710383\n",
      "Episode  219 Reward 189.2029876878084 R -291.55053391122533\n",
      "Episode  220 Reward 183.8980840581151 R -289.3991826986944\n",
      "Episode  221 Reward 207.58783038433933 R -287.1605024595816\n",
      "Episode  222 Reward 216.8768461843482 R -284.90024529077476\n",
      "Episode  223 Reward 152.8361556739767 R -282.94606492932496\n",
      "Episode  224 Reward 166.21778356045175 R -280.9497811582593\n",
      "Episode  225 Reward 178.52442317868997 R -278.9167094576533\n",
      "Episode  226 Reward 106.34183375765396 R -277.219535258467\n",
      "Episode  227 Reward 154.00739506934286 R -275.3281890728187\n",
      "Episode  228 Reward 200.27592234816416 R -273.2513152238188\n",
      "Episode  229 Reward -25.81916795663622 R -272.17552327917883\n",
      "Episode  230 Reward 161.57741679984292 R -270.2978049238584\n",
      "Episode  231 Reward 180.5335844226234 R -268.3545661766753\n",
      "Episode  232 Reward 182.3868603455913 R -266.4200536164939\n",
      "Episode  233 Reward 183.9292740629955 R -264.4954838400858\n",
      "Episode  234 Reward 194.39524398553198 R -262.5427573387002\n",
      "Episode  235 Reward 150.52830151550555 R -260.7924562418603\n",
      "Episode  236 Reward 200.92029874556363 R -258.8443011575252\n",
      "Episode  237 Reward 224.04717381278527 R -256.815345380339\n",
      "Episode  238 Reward 125.55518105229733 R -255.21546870070458\n",
      "Episode  239 Reward -2.013312293704189 R -254.1604597156754\n",
      "Episode  240 Reward 104.05707392019157 R -252.67407990805768\n",
      "Episode  241 Reward 181.54032448514687 R -250.87980550973865\n",
      "Episode  242 Reward 151.49387440743706 R -249.22394674464738\n",
      "Episode  243 Reward -383.9292451463667 R -249.7760176397364\n",
      "Episode  244 Reward -181.24043020391628 R -249.49628054816162\n",
      "Episode  245 Reward -162.3868380097962 R -249.14217712320894\n",
      "Episode  246 Reward -54.969134384420315 R -248.3560514441045\n",
      "Episode  247 Reward -21.851981962075783 R -247.4427285832899\n",
      "Episode  248 Reward -66.21025282057714 R -246.71488731516655\n",
      "Episode  249 Reward -505.4331237087124 R -247.74976026074074\n",
      "Episode  250 Reward -53.7102489114837 R -246.97669447847278\n",
      "Episode  251 Reward -61.610927392410424 R -246.24111603765508\n",
      "Episode  252 Reward -47.00943491238581 R -245.45363903715992\n",
      "Episode  253 Reward -36.00564837085439 R -244.6290406487099\n",
      "Episode  254 Reward -20.496148177426406 R -243.75008812921467\n",
      "Episode  255 Reward -42.028927525555 R -242.96211484560664\n",
      "Episode  256 Reward -9.554794815158147 R -242.0539151567722\n",
      "Episode  257 Reward -60.9729416463414 R -241.35205091835968\n",
      "Episode  258 Reward -16.961541892379557 R -240.48567829663773\n",
      "Episode  259 Reward 9.056947835029561 R -239.5258989653621\n",
      "Episode  260 Reward 1.4738678013646336 R -238.60252821146656\n",
      "Episode  261 Reward -186.51280186684266 R -238.40371246205962\n",
      "Episode  262 Reward 28.491269054235886 R -237.3889026464083\n",
      "Episode  263 Reward -391.92856801186383 R -237.974280166732\n",
      "Episode  264 Reward 193.99557466073674 R -236.34420524285474\n",
      "Episode  265 Reward 23.070616605658884 R -235.3689615516949\n",
      "Episode  266 Reward -35.819676633557535 R -234.6215859527506\n",
      "Episode  267 Reward 120.30155660214217 R -233.29724586859052\n",
      "Episode  268 Reward -227.34009496800562 R -233.27510032620918\n",
      "Episode  269 Reward -112.16610130305395 R -232.82654847797528\n",
      "Episode  270 Reward 47.52720916429348 R -231.7920327671182\n",
      "Episode  271 Reward -20.837622320079333 R -231.01646508165115\n",
      "Episode  272 Reward -35.27202193073073 R -230.2994524693767\n",
      "Episode  273 Reward 7.5010191512235025 R -229.4315675364548\n",
      "Episode  274 Reward 25.325975260696396 R -228.50517647173788\n",
      "Episode  275 Reward 12.104231298410369 R -227.63340325517936\n",
      "Episode  276 Reward -198.72073931980972 R -227.52902540703724\n",
      "Episode  277 Reward 8.932712634256859 R -226.6784436155218\n",
      "Episode  278 Reward -5.999582980987981 R -225.88747995733348\n",
      "Episode  279 Reward -276.1191928999118 R -226.06687893212842\n",
      "Episode  280 Reward -8.303867246716322 R -225.29192159516964\n",
      "Episode  281 Reward -21.232714540307384 R -224.56830738575525\n",
      "Episode  282 Reward 190.00908352564466 R -223.10336960868318\n",
      "Episode  283 Reward 6.94123309008404 R -222.2933534019974\n",
      "Episode  284 Reward 47.03093436504967 R -221.3483559010604\n",
      "Episode  285 Reward 151.5495688161505 R -220.04451700344774\n",
      "Episode  286 Reward -59.48804475999229 R -219.4850867865716\n",
      "Episode  287 Reward -244.05464095813733 R -219.57039773855618\n",
      "Episode  288 Reward -342.2766108625615 R -219.9949867113036\n",
      "Episode  289 Reward -75.82564330441912 R -219.4978510443833\n",
      "Episode  290 Reward 1.8481199926439444 R -218.7372119686547\n",
      "Episode  291 Reward -121.31643544451725 R -218.40357917233916\n",
      "Episode  292 Reward 61.28219278894926 R -217.4490202236658\n",
      "Episode  293 Reward 203.20040640758424 R -216.0182398609745\n",
      "Episode  294 Reward 27.93981784898675 R -215.19126339416107\n",
      "Episode  295 Reward -59.631512256738255 R -214.66572369437247\n",
      "Episode  296 Reward -90.43484123449612 R -214.2474378948443\n",
      "Episode  297 Reward -192.57216731860734 R -214.17470208754148\n",
      "Episode  298 Reward -82.6722460104421 R -213.7348945421331\n",
      "Episode  299 Reward 214.32906644336282 R -212.30801467218146\n",
      "Episode  300 Reward -54.586445164218425 R -211.78402274690583\n",
      "Episode  301 Reward 169.60075386227598 R -210.52115924819995\n",
      "Episode  302 Reward -89.98235259221177 R -210.1233414044508\n",
      "Episode  303 Reward 19.568429925292705 R -209.36777636718193\n",
      "Episode  304 Reward -16.679925686711755 R -208.73601292232792\n",
      "Episode  305 Reward -198.04669237291242 R -208.70108050223178\n",
      "Episode  306 Reward -44.58059295318918 R -208.16648608024792\n",
      "Episode  307 Reward 14.975060568009084 R -207.44200053918217\n",
      "Episode  308 Reward -13.238953402647255 R -206.81351171349758\n",
      "Episode  309 Reward -57.37695548726222 R -206.33145830631616\n",
      "Episode  310 Reward -77.57952508871415 R -205.91746495191876\n",
      "Episode  311 Reward -196.44373145384503 R -205.8871004214762\n",
      "Episode  312 Reward -69.60792039636527 R -205.45170368018194\n",
      "Episode  313 Reward -70.64728892682132 R -205.0223902574005\n",
      "Episode  314 Reward -170.5594719963201 R -204.9129841676828\n",
      "Episode  315 Reward -60.36577391076903 R -204.45555628712293\n",
      "Episode  316 Reward -65.36540182507841 R -204.01678608377264\n",
      "Episode  317 Reward -240.6524342011132 R -204.1319925243932\n",
      "Episode  318 Reward -319.49098768704386 R -204.49361946847674\n",
      "Episode  319 Reward -61.08676368879027 R -204.04547304416525\n",
      "Episode  320 Reward -100.84163775939295 R -203.7239657691348\n",
      "Episode  321 Reward -40.98426258686768 R -203.21856296422092\n",
      "Episode  322 Reward -145.25627407485257 R -203.03911315341793\n",
      "Episode  323 Reward -93.88491282133224 R -202.7022174733806\n",
      "Episode  324 Reward -44.20727646965657 R -202.21454073183068\n",
      "Episode  325 Reward -70.5865236605355 R -201.8107738082991\n",
      "Episode  326 Reward -45.513678058757286 R -201.33280103842284\n",
      "Episode  327 Reward -94.27710497541182 R -201.00641172115755\n",
      "Episode  328 Reward -26.626738771842852 R -200.47638232009578\n",
      "Episode  329 Reward -145.6070961833614 R -200.31011175604507\n",
      "Episode  330 Reward -21.05417316288262 R -199.7685530291775\n",
      "Episode  331 Reward -150.51271990242333 R -199.62019208602464\n",
      "Episode  332 Reward -39.78598066558247 R -199.1402094691464\n",
      "Episode  333 Reward -81.31663051440935 R -198.78744426269512\n",
      "Episode  334 Reward -133.47882651431985 R -198.59249316493876\n",
      "Episode  335 Reward -46.1306706817362 R -198.13873774088162\n",
      "Episode  336 Reward -140.32536755179953 R -197.96718471361433\n",
      "Episode  337 Reward -99.44885147272207 R -197.6757103549135\n",
      "Episode  338 Reward -107.96599149376331 R -197.41107991579506\n",
      "Episode  339 Reward -205.17716337295008 R -197.43392133772787\n",
      "Episode  340 Reward -157.49852980006258 R -197.31680875257345\n",
      "Episode  341 Reward -233.26176403440846 R -197.42191096099987\n",
      "Episode  342 Reward -224.2755882632605 R -197.50020156537963\n",
      "Episode  343 Reward -55.585079245417745 R -197.08765760514717\n",
      "Episode  344 Reward -83.7015498541723 R -196.75900222036177\n",
      "Episode  345 Reward 40.181814144240775 R -196.07420217306523\n",
      "Episode  346 Reward -20.771687442733608 R -195.56900760611902\n",
      "Episode  347 Reward -121.62279168447633 R -195.3565184799074\n",
      "Episode  348 Reward -245.16756859337985 R -195.49924355186576\n",
      "Episode  349 Reward -60.99806553782595 R -195.11495447182565\n",
      "Episode  350 Reward -62.730855620681226 R -194.7377917970361\n",
      "Episode  351 Reward -30.043438953296103 R -194.2699101128209\n",
      "Episode  352 Reward -82.12043229926655 R -193.95220620966637\n",
      "Episode  353 Reward -88.46830218889696 R -193.6542290796642\n",
      "Episode  354 Reward -324.3239854808778 R -194.02231290051267\n",
      "Episode  355 Reward -254.13715143012521 R -194.19117480649473\n",
      "Episode  356 Reward -290.86438632749696 R -194.46196811607737\n",
      "Episode  357 Reward -114.61600846926567 R -194.2389347092427\n",
      "Episode  358 Reward -48.02929594705271 R -193.83166552049008\n",
      "Episode  359 Reward -346.5613158662941 R -194.2559145492284\n",
      "Episode  360 Reward -237.08958131571626 R -194.37456736575606\n",
      "Episode  361 Reward -215.80641991755158 R -194.4337713783301\n",
      "Episode  362 Reward -123.89706716723876 R -194.23945538876788\n",
      "Episode  363 Reward -178.03283923763405 R -194.194931718023\n",
      "Episode  364 Reward -278.3442868414428 R -194.42547789644334\n",
      "Episode  365 Reward -78.1152364789066 R -194.10769035158668\n",
      "Episode  366 Reward -165.26001435488104 R -194.02908632979728\n",
      "Episode  367 Reward -184.3027085925267 R -194.00265595551122\n",
      "Episode  368 Reward -25.862274172754127 R -193.54699096423005\n",
      "Episode  369 Reward -144.33988278081748 R -193.41399877995053\n",
      "Episode  370 Reward -165.75195096682035 R -193.3394380041739\n",
      "Episode  371 Reward -121.5817807201594 R -193.14654107599105\n",
      "Episode  372 Reward -108.37605172715965 R -192.91927434851428\n",
      "Episode  373 Reward -125.6696701205355 R -192.73946257250364\n",
      "Episode  374 Reward -268.70829802375954 R -192.942046133707\n",
      "Episode  375 Reward -163.98421388025815 R -192.86503062239464\n",
      "Episode  376 Reward -119.30914350366355 R -192.6699221684988\n",
      "Episode  377 Reward -49.347696467763235 R -192.2907628412482\n",
      "Episode  378 Reward -24.61616000560838 R -191.84834964115416\n",
      "Episode  379 Reward -226.11417177080148 R -191.93852285728482\n",
      "Episode  380 Reward -223.20513514691854 R -192.0205874564702\n",
      "Episode  381 Reward -205.9560978843133 R -192.05706785026035\n",
      "Episode  382 Reward -266.6975414892682 R -192.25195159344315\n",
      "Episode  383 Reward -319.85193722330854 R -192.5842432226876\n",
      "Episode  384 Reward -361.6634382808954 R -193.02340996309854\n",
      "Episode  385 Reward -305.1319586781826 R -193.3138466178008\n",
      "Episode  386 Reward -286.2080428666379 R -193.55388330061433\n",
      "Episode  387 Reward -348.9648568037377 R -193.9544270467564\n",
      "Episode  388 Reward -471.03331938268775 R -194.6667121170287\n",
      "Episode  389 Reward -249.25472873029818 R -194.80668139039608\n",
      "Episode  390 Reward -589.0715470085191 R -195.8150314303401\n",
      "Episode  391 Reward -336.71058605603116 R -196.17445886560972\n",
      "Episode  392 Reward -384.20070369015406 R -196.65289714760598\n",
      "Episode  393 Reward -303.79915189857945 R -196.92484195661862\n",
      "Episode  394 Reward -444.86715631892145 R -197.55254401829535\n",
      "Episode  395 Reward -273.5566366704686 R -197.74447354519478\n",
      "Episode  396 Reward -371.81351076969986 R -198.18293459613813\n",
      "Episode  397 Reward -413.3055395650671 R -198.72344365384902\n",
      "Episode  398 Reward -427.4654019930037 R -199.29673176998725\n",
      "Episode  399 Reward -412.95111807445716 R -199.83086773574843\n"
     ]
    }
   ],
   "source": [
    "TAU = 1e-3\n",
    "\n",
    "pol1 = nn.Sequential(nn.Linear(8,20),nn.ReLU(),nn.Linear(20,15),nn.ReLU(),nn.Linear(15,2),nn.Tanh()).to(device)\n",
    "pol2 = nn.Sequential(nn.Linear(8,20),nn.ReLU(),nn.Linear(20,15),nn.ReLU(),nn.Linear(15,2),nn.Tanh()).to(device)\n",
    "copy_params(pol1,pol2)\n",
    "## pol1 is the local actor and pol2 is the target actor\n",
    "\n",
    "Q1 = Q_net(8,2).to(device)\n",
    "Q2 = Q_net(8,2).to(device)\n",
    "copy_params(Q1,Q2)\n",
    "## Q1 is the local critic and Q2 is the target critic\n",
    "\n",
    "opt1 = torch.optim.Adam(Q1.parameters(),lr = 0.01)\n",
    "opt2 = torch.optim.Adam(pol1.parameters(),lr = 0.001)\n",
    "R = []\n",
    "D = []\n",
    "for episode in range(0,400):\n",
    "  state = env.reset()\n",
    "  done = False\n",
    "  r = 0\n",
    "  noise.reset()\n",
    "  while(done!=True):\n",
    "    if(len(D)>=50000):\n",
    "      D = []\n",
    "    for k in range(0,64):\n",
    "      pol1.zero_grad()\n",
    "      Q1.zero_grad()\n",
    "      action = pol1(torch.Tensor(state).to(device)) \n",
    "      N = noise.sample()[0]\n",
    "      # print(np.clip(action.item()+N,-1,1))\n",
    "      a = [np.clip(action[0].item()+N[0],-1,1),np.clip(action[1].item()+N[1],-1,1)]\n",
    "      # a = [np.clip(action.item()+N,-1,1)]\n",
    "      # print(a)\n",
    "      state1,reward,done,_ = env.step(a)\n",
    "      # state1 = [a.item() for b in state1 for a in b]\n",
    "      D.append([state,action,reward,state1,done])\n",
    "      if(len(D)>=64):\n",
    "        loss = update_params(D)\n",
    "      # if(reward>50):\n",
    "      #   print(\"yes\")\n",
    "      state = copy.deepcopy(state1)\n",
    "      r+=reward\n",
    "      if(done==True):\n",
    "        break;\n",
    "    # if(len(D)!=1):\n",
    "    #   loss = update_params(D)\n",
    "  # print(Q1.fc3.weight.grad)\n",
    "  R.append(r)\n",
    "  print(\"Episode \",episode,\"Reward\",r,\"R\",sum(R)/len(R))  # R printed during training is the mean of the episodic rewards collected so far"
   ]
  },
  {
   "cell_type": "code",
   "execution_count": null,
   "metadata": {},
   "outputs": [],
   "source": [
    "### function to calculate moving average ###"
   ]
  },
  {
   "cell_type": "code",
   "execution_count": 0,
   "metadata": {
    "colab": {},
    "colab_type": "code",
    "id": "4AWbuKPcwO7O"
   },
   "outputs": [],
   "source": [
    "def moving_average(a, n=3) :\n",
    "    ret = np.cumsum(a, dtype=float)\n",
    "    ret[n:] = ret[n:] - ret[:-n]\n",
    "    return ret[n - 1:] / n"
   ]
  },
  {
   "cell_type": "code",
   "execution_count": 0,
   "metadata": {
    "colab": {},
    "colab_type": "code",
    "id": "TL47rmHaJD-A"
   },
   "outputs": [],
   "source": [
    "RR = moving_average(R,5)"
   ]
  },
  {
   "cell_type": "code",
   "execution_count": null,
   "metadata": {},
   "outputs": [],
   "source": [
    "### plotting episodic reward ####"
   ]
  },
  {
   "cell_type": "code",
   "execution_count": 52,
   "metadata": {
    "colab": {
     "base_uri": "https://localhost:8080/",
     "height": 279
    },
    "colab_type": "code",
    "id": "aDErlTTxPxFf",
    "outputId": "04bcd7d5-16d6-48c0-e222-ffa254b2d2ba"
   },
   "outputs": [
    {
     "data": {
      "image/png": "[encoded data removed]",
      "text/plain": [
       "<Figure size 432x288 with 1 Axes>"
      ]
     },
     "metadata": {
      "needs_background": "light",
      "tags": []
     },
     "output_type": "display_data"
    }
   ],
   "source": [
    "plt.plot(RR[:235])\n",
    "plt.xlabel(\"Episodes\")\n",
    "plt.ylabel(\"Total episodic Reward\")\n",
    "plt.show()"
   ]
  }
 ],
 "metadata": {
  "accelerator": "GPU",
  "colab": {
   "collapsed_sections": [],
   "name": "Q1.ipynb",
   "provenance": []
  },
  "kernelspec": {
   "display_name": "Python 3",
   "language": "python",
   "name": "python3"
  },
  "language_info": {
   "codemirror_mode": {
    "name": "ipython",
    "version": 3
   },
   "file_extension": ".py",
   "mimetype": "text/x-python",
   "name": "python",
   "nbconvert_exporter": "python",
   "pygments_lexer": "ipython3",
   "version": "3.7.5"
  }
 },
 "nbformat": 4,
 "nbformat_minor": 1
}
